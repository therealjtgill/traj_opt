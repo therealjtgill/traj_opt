{
 "cells": [
  {
   "cell_type": "code",
   "execution_count": 1,
   "id": "e7c6ff11-d782-4ecd-97dc-5f6fa3b32da2",
   "metadata": {},
   "outputs": [],
   "source": [
    "import sympy"
   ]
  },
  {
   "cell_type": "code",
   "execution_count": 2,
   "id": "3d3a7d3d-a773-4ceb-91f0-36cc91b6348b",
   "metadata": {},
   "outputs": [],
   "source": [
    "x = sympy.symbols('x')"
   ]
  },
  {
   "cell_type": "code",
   "execution_count": 3,
   "id": "dfe50dfc-f7a0-4a23-9e07-be323637856c",
   "metadata": {},
   "outputs": [
    {
     "data": {
      "text/latex": [
       "$\\displaystyle x + 1$"
      ],
      "text/plain": [
       "x + 1"
      ]
     },
     "execution_count": 3,
     "metadata": {},
     "output_type": "execute_result"
    }
   ],
   "source": [
    "x + 1"
   ]
  },
  {
   "cell_type": "code",
   "execution_count": 4,
   "id": "1de8fa80-7d7f-43b7-b990-b9b56bf42afb",
   "metadata": {},
   "outputs": [],
   "source": [
    "y = sympy.symbols('y')\n",
    "z = sympy.symbols('z')"
   ]
  },
  {
   "cell_type": "code",
   "execution_count": 5,
   "id": "dfc88891-b036-44c4-84bb-b0163e7ed3d3",
   "metadata": {},
   "outputs": [
    {
     "data": {
      "text/latex": [
       "$\\displaystyle y$"
      ],
      "text/plain": [
       "y"
      ]
     },
     "execution_count": 5,
     "metadata": {},
     "output_type": "execute_result"
    }
   ],
   "source": [
    "y"
   ]
  },
  {
   "cell_type": "code",
   "execution_count": 6,
   "id": "5ca36f49-8d98-45db-bd7f-63129993d785",
   "metadata": {},
   "outputs": [],
   "source": [
    "expr = sympy.exp(x * y * z)"
   ]
  },
  {
   "cell_type": "code",
   "execution_count": 7,
   "id": "565a1869-373e-4296-9e0d-42ff6911a973",
   "metadata": {},
   "outputs": [
    {
     "data": {
      "text/latex": [
       "$\\displaystyle y z e^{x y z}$"
      ],
      "text/plain": [
       "y*z*exp(x*y*z)"
      ]
     },
     "execution_count": 7,
     "metadata": {},
     "output_type": "execute_result"
    }
   ],
   "source": [
    "sympy.diff(expr, x)"
   ]
  },
  {
   "cell_type": "code",
   "execution_count": 8,
   "id": "9620271c-be99-4540-9e3e-62e9d1d19c4e",
   "metadata": {},
   "outputs": [],
   "source": [
    "z = sympy.symbols(\"z1:5\")"
   ]
  },
  {
   "cell_type": "code",
   "execution_count": 9,
   "id": "c8c58c96-afff-4d96-a9b2-0080ef5f2e40",
   "metadata": {},
   "outputs": [
    {
     "data": {
      "text/plain": [
       "(z1, z2, z3, z4)"
      ]
     },
     "execution_count": 9,
     "metadata": {},
     "output_type": "execute_result"
    }
   ],
   "source": [
    "z"
   ]
  },
  {
   "cell_type": "code",
   "execution_count": 10,
   "id": "53bfd984-542a-4f6c-aa69-c060fa1f9945",
   "metadata": {},
   "outputs": [],
   "source": [
    "alpha = sympy.symbols(\"alpha\")\n",
    "premult = (sympy.cos(z[1])**2 - alpha)**(-1)"
   ]
  },
  {
   "cell_type": "code",
   "execution_count": 11,
   "id": "05049997-7085-49ff-a072-1d4039868e02",
   "metadata": {},
   "outputs": [],
   "source": [
    "u = sympy.symbols(\"u\")"
   ]
  },
  {
   "cell_type": "code",
   "execution_count": 12,
   "id": "3c9808e3-fbe2-40f9-bc14-c7400014c752",
   "metadata": {},
   "outputs": [],
   "source": [
    "g = sympy.symbols(\"g\")\n",
    "z_dot = (\n",
    "    z[2],\n",
    "    z[3],\n",
    "    premult * (-g * sympy.sin(z[1]) * sympy.cos(z[1]) - u - (z[3]**2) * sympy.sin(z[1])),\n",
    "    premult * (alpha * g * sympy.sin(z[1]) + u * sympy.cos(z[1]) + (z[3]**2) * sympy.sin(z[1]) * sympy.cos(z[1])),\n",
    ")"
   ]
  },
  {
   "cell_type": "code",
   "execution_count": 13,
   "id": "f9d3aa60-472f-4a40-a6b7-2f9e6c203dee",
   "metadata": {},
   "outputs": [
    {
     "data": {
      "text/plain": [
       "(z3,\n",
       " z4,\n",
       " (-g*sin(z2)*cos(z2) - u - z4**2*sin(z2))/(-alpha + cos(z2)**2),\n",
       " (alpha*g*sin(z2) + u*cos(z2) + z4**2*sin(z2)*cos(z2))/(-alpha + cos(z2)**2))"
      ]
     },
     "execution_count": 13,
     "metadata": {},
     "output_type": "execute_result"
    }
   ],
   "source": [
    "z_dot"
   ]
  },
  {
   "cell_type": "code",
   "execution_count": 14,
   "id": "74676c60-27f1-47fb-ae84-cebe99a13469",
   "metadata": {},
   "outputs": [
    {
     "data": {
      "text/latex": [
       "$\\displaystyle \\frac{g \\sin^{2}{\\left(z_{2} \\right)} - g \\cos^{2}{\\left(z_{2} \\right)} - z_{4}^{2} \\cos{\\left(z_{2} \\right)}}{- \\alpha + \\cos^{2}{\\left(z_{2} \\right)}} + \\frac{2 \\left(- g \\sin{\\left(z_{2} \\right)} \\cos{\\left(z_{2} \\right)} - u - z_{4}^{2} \\sin{\\left(z_{2} \\right)}\\right) \\sin{\\left(z_{2} \\right)} \\cos{\\left(z_{2} \\right)}}{\\left(- \\alpha + \\cos^{2}{\\left(z_{2} \\right)}\\right)^{2}}$"
      ],
      "text/plain": [
       "(g*sin(z2)**2 - g*cos(z2)**2 - z4**2*cos(z2))/(-alpha + cos(z2)**2) + 2*(-g*sin(z2)*cos(z2) - u - z4**2*sin(z2))*sin(z2)*cos(z2)/(-alpha + cos(z2)**2)**2"
      ]
     },
     "execution_count": 14,
     "metadata": {},
     "output_type": "execute_result"
    }
   ],
   "source": [
    "sympy.diff(z_dot[2], z[1])"
   ]
  },
  {
   "cell_type": "code",
   "execution_count": 15,
   "id": "7640c6ea-861a-4984-8387-e4bd207d58e8",
   "metadata": {},
   "outputs": [
    {
     "data": {
      "text/latex": [
       "$\\displaystyle 0$"
      ],
      "text/plain": [
       "0"
      ]
     },
     "execution_count": 15,
     "metadata": {},
     "output_type": "execute_result"
    }
   ],
   "source": [
    "sympy.diff(z_dot[2], z[0])"
   ]
  },
  {
   "cell_type": "code",
   "execution_count": 16,
   "id": "80e0a164-b833-403f-8f90-68ead0c31f32",
   "metadata": {},
   "outputs": [
    {
     "data": {
      "text/latex": [
       "$\\displaystyle \\frac{\\alpha g \\cos{\\left(z_{2} \\right)} - u \\sin{\\left(z_{2} \\right)} - z_{4}^{2} \\sin^{2}{\\left(z_{2} \\right)} + z_{4}^{2} \\cos^{2}{\\left(z_{2} \\right)}}{- \\alpha + \\cos^{2}{\\left(z_{2} \\right)}} + \\frac{2 \\left(\\alpha g \\sin{\\left(z_{2} \\right)} + u \\cos{\\left(z_{2} \\right)} + z_{4}^{2} \\sin{\\left(z_{2} \\right)} \\cos{\\left(z_{2} \\right)}\\right) \\sin{\\left(z_{2} \\right)} \\cos{\\left(z_{2} \\right)}}{\\left(- \\alpha + \\cos^{2}{\\left(z_{2} \\right)}\\right)^{2}}$"
      ],
      "text/plain": [
       "(alpha*g*cos(z2) - u*sin(z2) - z4**2*sin(z2)**2 + z4**2*cos(z2)**2)/(-alpha + cos(z2)**2) + 2*(alpha*g*sin(z2) + u*cos(z2) + z4**2*sin(z2)*cos(z2))*sin(z2)*cos(z2)/(-alpha + cos(z2)**2)**2"
      ]
     },
     "execution_count": 16,
     "metadata": {},
     "output_type": "execute_result"
    }
   ],
   "source": [
    "sympy.diff(z_dot[3], z[1])"
   ]
  },
  {
   "cell_type": "code",
   "execution_count": 17,
   "id": "ea808b81-2300-4e41-a66a-d9b8f477ec8b",
   "metadata": {},
   "outputs": [
    {
     "data": {
      "text/latex": [
       "$\\displaystyle 0$"
      ],
      "text/plain": [
       "0"
      ]
     },
     "execution_count": 17,
     "metadata": {},
     "output_type": "execute_result"
    }
   ],
   "source": [
    "sympy.diff(z_dot[0], z[0])"
   ]
  },
  {
   "cell_type": "code",
   "execution_count": 18,
   "id": "82e12194-7896-4c70-b0d3-4e55f688dfd1",
   "metadata": {},
   "outputs": [
    {
     "data": {
      "text/latex": [
       "$\\displaystyle 0$"
      ],
      "text/plain": [
       "0"
      ]
     },
     "execution_count": 18,
     "metadata": {},
     "output_type": "execute_result"
    }
   ],
   "source": [
    "sympy.diff(z_dot[0], u)"
   ]
  },
  {
   "cell_type": "code",
   "execution_count": 19,
   "id": "1fe3f303-f1fb-4dc7-bd74-6e0c408d822e",
   "metadata": {},
   "outputs": [
    {
     "data": {
      "text/latex": [
       "$\\displaystyle 0$"
      ],
      "text/plain": [
       "0"
      ]
     },
     "execution_count": 19,
     "metadata": {},
     "output_type": "execute_result"
    }
   ],
   "source": [
    "sympy.diff(z_dot[1], u)"
   ]
  },
  {
   "cell_type": "code",
   "execution_count": 20,
   "id": "6a102a92-c175-400e-bfcb-2b9311b235a9",
   "metadata": {},
   "outputs": [
    {
     "data": {
      "text/latex": [
       "$\\displaystyle - \\frac{1}{- \\alpha + \\cos^{2}{\\left(z_{2} \\right)}}$"
      ],
      "text/plain": [
       "-1/(-alpha + cos(z2)**2)"
      ]
     },
     "execution_count": 20,
     "metadata": {},
     "output_type": "execute_result"
    }
   ],
   "source": [
    "sympy.diff(z_dot[2], u)"
   ]
  },
  {
   "cell_type": "code",
   "execution_count": 21,
   "id": "5fbe6aca-c282-40a3-9103-60b4d344ab67",
   "metadata": {},
   "outputs": [
    {
     "data": {
      "text/latex": [
       "$\\displaystyle \\frac{\\cos{\\left(z_{2} \\right)}}{- \\alpha + \\cos^{2}{\\left(z_{2} \\right)}}$"
      ],
      "text/plain": [
       "cos(z2)/(-alpha + cos(z2)**2)"
      ]
     },
     "execution_count": 21,
     "metadata": {},
     "output_type": "execute_result"
    }
   ],
   "source": [
    "sympy.diff(z_dot[3], u)"
   ]
  },
  {
   "cell_type": "code",
   "execution_count": 22,
   "id": "6eae31da-032c-4063-bfb8-70816d65d3dd",
   "metadata": {},
   "outputs": [
    {
     "data": {
      "text/latex": [
       "$\\displaystyle \\frac{g \\sin^{2}{\\left(z_{2} \\right)} - g \\cos^{2}{\\left(z_{2} \\right)} - z_{4}^{2} \\cos{\\left(z_{2} \\right)}}{- \\alpha + \\cos^{2}{\\left(z_{2} \\right)}} + \\frac{2 \\left(- g \\sin{\\left(z_{2} \\right)} \\cos{\\left(z_{2} \\right)} - u - z_{4}^{2} \\sin{\\left(z_{2} \\right)}\\right) \\sin{\\left(z_{2} \\right)} \\cos{\\left(z_{2} \\right)}}{\\left(- \\alpha + \\cos^{2}{\\left(z_{2} \\right)}\\right)^{2}}$"
      ],
      "text/plain": [
       "(g*sin(z2)**2 - g*cos(z2)**2 - z4**2*cos(z2))/(-alpha + cos(z2)**2) + 2*(-g*sin(z2)*cos(z2) - u - z4**2*sin(z2))*sin(z2)*cos(z2)/(-alpha + cos(z2)**2)**2"
      ]
     },
     "execution_count": 22,
     "metadata": {},
     "output_type": "execute_result"
    }
   ],
   "source": [
    "sympy.diff(z_dot[2], z[1])"
   ]
  },
  {
   "cell_type": "code",
   "execution_count": 23,
   "id": "37745cce-d19c-4c4a-a2fc-c74501c7486b",
   "metadata": {},
   "outputs": [
    {
     "data": {
      "text/latex": [
       "$\\displaystyle \\frac{- \\left(4 g \\cos{\\left(z_{2} \\right)} + z_{4}^{2}\\right) \\sin{\\left(z_{2} \\right)} - \\frac{4 \\left(- g \\sin^{2}{\\left(z_{2} \\right)} + g \\cos^{2}{\\left(z_{2} \\right)} + z_{4}^{2} \\cos{\\left(z_{2} \\right)}\\right) \\sin{\\left(z_{2} \\right)} \\cos{\\left(z_{2} \\right)}}{\\alpha - \\cos^{2}{\\left(z_{2} \\right)}} + \\frac{2 \\left(g \\sin{\\left(z_{2} \\right)} \\cos{\\left(z_{2} \\right)} + u + z_{4}^{2} \\sin{\\left(z_{2} \\right)}\\right) \\left(\\sin^{2}{\\left(z_{2} \\right)} - \\cos^{2}{\\left(z_{2} \\right)} + \\frac{4 \\sin^{2}{\\left(z_{2} \\right)} \\cos^{2}{\\left(z_{2} \\right)}}{\\alpha - \\cos^{2}{\\left(z_{2} \\right)}}\\right)}{\\alpha - \\cos^{2}{\\left(z_{2} \\right)}}}{\\alpha - \\cos^{2}{\\left(z_{2} \\right)}}$"
      ],
      "text/plain": [
       "(-(4*g*cos(z2) + z4**2)*sin(z2) - 4*(-g*sin(z2)**2 + g*cos(z2)**2 + z4**2*cos(z2))*sin(z2)*cos(z2)/(alpha - cos(z2)**2) + 2*(g*sin(z2)*cos(z2) + u + z4**2*sin(z2))*(sin(z2)**2 - cos(z2)**2 + 4*sin(z2)**2*cos(z2)**2/(alpha - cos(z2)**2))/(alpha - cos(z2)**2))/(alpha - cos(z2)**2)"
      ]
     },
     "execution_count": 23,
     "metadata": {},
     "output_type": "execute_result"
    }
   ],
   "source": [
    "sympy.diff(z_dot[2], z[1], z[1])"
   ]
  },
  {
   "cell_type": "code",
   "execution_count": 24,
   "id": "2cc34b24-6694-4540-b7e8-012e8623a240",
   "metadata": {},
   "outputs": [
    {
     "data": {
      "text/latex": [
       "$\\displaystyle - \\frac{2 z_{4} \\sin{\\left(z_{2} \\right)}}{- \\alpha + \\cos^{2}{\\left(z_{2} \\right)}}$"
      ],
      "text/plain": [
       "-2*z4*sin(z2)/(-alpha + cos(z2)**2)"
      ]
     },
     "execution_count": 24,
     "metadata": {},
     "output_type": "execute_result"
    }
   ],
   "source": [
    "sympy.diff(z_dot[2], z[3])"
   ]
  },
  {
   "cell_type": "code",
   "execution_count": 25,
   "id": "2836c9f0-c8c4-43cc-927a-45720ea3c04e",
   "metadata": {},
   "outputs": [
    {
     "data": {
      "text/latex": [
       "$\\displaystyle \\frac{2 \\sin{\\left(z_{2} \\right)}}{\\alpha - \\cos^{2}{\\left(z_{2} \\right)}}$"
      ],
      "text/plain": [
       "2*sin(z2)/(alpha - cos(z2)**2)"
      ]
     },
     "execution_count": 25,
     "metadata": {},
     "output_type": "execute_result"
    }
   ],
   "source": [
    "sympy.diff(z_dot[2], z[3], z[3])"
   ]
  },
  {
   "cell_type": "code",
   "execution_count": 26,
   "id": "5f408438-bc47-4317-86de-026b327ad017",
   "metadata": {},
   "outputs": [
    {
     "name": "stdout",
     "output_type": "stream",
     "text": [
      "i, j: ( 0 , 0 )\n",
      "0\n",
      "i, j: ( 0 , 1 )\n",
      "0\n",
      "i, j: ( 0 , 2 )\n",
      "1\n",
      "i, j: ( 0 , 3 )\n",
      "0\n",
      "i, j: ( 1 , 0 )\n",
      "0\n",
      "i, j: ( 1 , 1 )\n",
      "0\n",
      "i, j: ( 1 , 2 )\n",
      "0\n",
      "i, j: ( 1 , 3 )\n",
      "1\n",
      "i, j: ( 2 , 0 )\n",
      "0\n",
      "i, j: ( 2 , 1 )\n",
      "(g*sin(z2)**2 - g*cos(z2)**2 - z4**2*cos(z2))/(-alpha + cos(z2)**2) + 2*(-g*sin(z2)*cos(z2) - u - z4**2*sin(z2))*sin(z2)*cos(z2)/(-alpha + cos(z2)**2)**2\n",
      "i, j: ( 2 , 2 )\n",
      "0\n",
      "i, j: ( 2 , 3 )\n",
      "-2*z4*sin(z2)/(-alpha + cos(z2)**2)\n",
      "i, j: ( 3 , 0 )\n",
      "0\n",
      "i, j: ( 3 , 1 )\n",
      "(alpha*g*cos(z2) - u*sin(z2) - z4**2*sin(z2)**2 + z4**2*cos(z2)**2)/(-alpha + cos(z2)**2) + 2*(alpha*g*sin(z2) + u*cos(z2) + z4**2*sin(z2)*cos(z2))*sin(z2)*cos(z2)/(-alpha + cos(z2)**2)**2\n",
      "i, j: ( 3 , 2 )\n",
      "0\n",
      "i, j: ( 3 , 3 )\n",
      "2*z4*sin(z2)*cos(z2)/(-alpha + cos(z2)**2)\n"
     ]
    }
   ],
   "source": [
    "for i in range(4):\n",
    "    for j in range(4):\n",
    "        print(\"i, j: (\", i, \",\", j,\")\")\n",
    "        print(sympy.diff(z_dot[i], z[j]))"
   ]
  },
  {
   "cell_type": "code",
   "execution_count": 27,
   "id": "0f5c47f1-aad1-451b-9c63-8cceb6a82aac",
   "metadata": {},
   "outputs": [
    {
     "data": {
      "text/latex": [
       "$\\displaystyle \\frac{g \\sin^{2}{\\left(z_{2} \\right)} - g \\cos^{2}{\\left(z_{2} \\right)} - z_{4}^{2} \\cos{\\left(z_{2} \\right)}}{- \\alpha + \\cos^{2}{\\left(z_{2} \\right)}} + \\frac{2 \\left(- g \\sin{\\left(z_{2} \\right)} \\cos{\\left(z_{2} \\right)} - u - z_{4}^{2} \\sin{\\left(z_{2} \\right)}\\right) \\sin{\\left(z_{2} \\right)} \\cos{\\left(z_{2} \\right)}}{\\left(- \\alpha + \\cos^{2}{\\left(z_{2} \\right)}\\right)^{2}}$"
      ],
      "text/plain": [
       "(g*sin(z2)**2 - g*cos(z2)**2 - z4**2*cos(z2))/(-alpha + cos(z2)**2) + 2*(-g*sin(z2)*cos(z2) - u - z4**2*sin(z2))*sin(z2)*cos(z2)/(-alpha + cos(z2)**2)**2"
      ]
     },
     "execution_count": 27,
     "metadata": {},
     "output_type": "execute_result"
    }
   ],
   "source": [
    "sympy.diff(z_dot[2], z[1])"
   ]
  },
  {
   "cell_type": "code",
   "execution_count": 28,
   "id": "02f7515f-1349-44a0-b1df-ea3e50868604",
   "metadata": {},
   "outputs": [
    {
     "data": {
      "text/latex": [
       "$\\displaystyle - \\frac{2 z_{4} \\sin{\\left(z_{2} \\right)}}{- \\alpha + \\cos^{2}{\\left(z_{2} \\right)}}$"
      ],
      "text/plain": [
       "-2*z4*sin(z2)/(-alpha + cos(z2)**2)"
      ]
     },
     "execution_count": 28,
     "metadata": {},
     "output_type": "execute_result"
    }
   ],
   "source": [
    "sympy.diff(z_dot[2], z[3])"
   ]
  },
  {
   "cell_type": "code",
   "execution_count": 29,
   "id": "c630138c-8f7f-49d9-b94b-4b91407ac5f4",
   "metadata": {},
   "outputs": [
    {
     "data": {
      "text/latex": [
       "$\\displaystyle \\frac{\\alpha g \\cos{\\left(z_{2} \\right)} - u \\sin{\\left(z_{2} \\right)} - z_{4}^{2} \\sin^{2}{\\left(z_{2} \\right)} + z_{4}^{2} \\cos^{2}{\\left(z_{2} \\right)}}{- \\alpha + \\cos^{2}{\\left(z_{2} \\right)}} + \\frac{2 \\left(\\alpha g \\sin{\\left(z_{2} \\right)} + u \\cos{\\left(z_{2} \\right)} + z_{4}^{2} \\sin{\\left(z_{2} \\right)} \\cos{\\left(z_{2} \\right)}\\right) \\sin{\\left(z_{2} \\right)} \\cos{\\left(z_{2} \\right)}}{\\left(- \\alpha + \\cos^{2}{\\left(z_{2} \\right)}\\right)^{2}}$"
      ],
      "text/plain": [
       "(alpha*g*cos(z2) - u*sin(z2) - z4**2*sin(z2)**2 + z4**2*cos(z2)**2)/(-alpha + cos(z2)**2) + 2*(alpha*g*sin(z2) + u*cos(z2) + z4**2*sin(z2)*cos(z2))*sin(z2)*cos(z2)/(-alpha + cos(z2)**2)**2"
      ]
     },
     "execution_count": 29,
     "metadata": {},
     "output_type": "execute_result"
    }
   ],
   "source": [
    "sympy.diff(z_dot[3], z[1])"
   ]
  },
  {
   "cell_type": "code",
   "execution_count": 30,
   "id": "d45b2d26-a877-4fa0-872f-915c4bf34f42",
   "metadata": {},
   "outputs": [
    {
     "data": {
      "text/latex": [
       "$\\displaystyle \\frac{2 z_{4} \\sin{\\left(z_{2} \\right)} \\cos{\\left(z_{2} \\right)}}{- \\alpha + \\cos^{2}{\\left(z_{2} \\right)}}$"
      ],
      "text/plain": [
       "2*z4*sin(z2)*cos(z2)/(-alpha + cos(z2)**2)"
      ]
     },
     "execution_count": 30,
     "metadata": {},
     "output_type": "execute_result"
    }
   ],
   "source": [
    "sympy.diff(z_dot[3], z[3])"
   ]
  },
  {
   "cell_type": "code",
   "execution_count": 31,
   "id": "b2bdcb8e-eb22-4267-bbc7-984e64182091",
   "metadata": {},
   "outputs": [
    {
     "data": {
      "text/latex": [
       "$\\displaystyle - \\frac{1}{- \\alpha + \\cos^{2}{\\left(z_{2} \\right)}}$"
      ],
      "text/plain": [
       "-1/(-alpha + cos(z2)**2)"
      ]
     },
     "execution_count": 31,
     "metadata": {},
     "output_type": "execute_result"
    }
   ],
   "source": [
    "sympy.diff(z_dot[2], u)"
   ]
  },
  {
   "cell_type": "code",
   "execution_count": 32,
   "id": "af4fed95-d6cf-475d-94a7-4ad959cc34c1",
   "metadata": {},
   "outputs": [
    {
     "data": {
      "text/latex": [
       "$\\displaystyle \\frac{\\cos{\\left(z_{2} \\right)}}{- \\alpha + \\cos^{2}{\\left(z_{2} \\right)}}$"
      ],
      "text/plain": [
       "cos(z2)/(-alpha + cos(z2)**2)"
      ]
     },
     "execution_count": 32,
     "metadata": {},
     "output_type": "execute_result"
    }
   ],
   "source": [
    "sympy.diff(z_dot[3], u)"
   ]
  },
  {
   "cell_type": "code",
   "execution_count": 33,
   "id": "abb89c40-659e-4941-a906-c70097ec9f26",
   "metadata": {},
   "outputs": [
    {
     "data": {
      "text/latex": [
       "$\\displaystyle 0$"
      ],
      "text/plain": [
       "0"
      ]
     },
     "execution_count": 33,
     "metadata": {},
     "output_type": "execute_result"
    }
   ],
   "source": [
    "sympy.diff(z_dot[1], u)"
   ]
  },
  {
   "cell_type": "markdown",
   "id": "ec3fb69d-a6c2-422b-8078-9718c5390aed",
   "metadata": {},
   "source": [
    "## Need the Hessian of the Lagrangian for SQP\n",
    "If you don't linearize the dynamics, the Hessian of the Lagrangian gets pretty ugly"
   ]
  },
  {
   "cell_type": "code",
   "execution_count": 34,
   "id": "53db794a-986d-4315-bb6b-1bfaafd7254e",
   "metadata": {},
   "outputs": [],
   "source": [
    "mu = sympy.symbols(\"mu1:5\")"
   ]
  },
  {
   "cell_type": "code",
   "execution_count": 35,
   "id": "a72df525-43cf-4c16-8640-d3959daadc36",
   "metadata": {},
   "outputs": [],
   "source": [
    "A_dot_mu = [mu[2], mu[3], sympy.diff(z_dot[2], z[1]) * mu[1] + sympy.diff(z_dot[2], z[3]) * mu[3], sympy.diff(z_dot[3], z[1]) * mu[1] + sympy.diff(z_dot[3], z[3]) * mu[3]]"
   ]
  },
  {
   "cell_type": "code",
   "execution_count": 36,
   "id": "71d4ed6c-758f-4e7e-8ddf-521ba535dd33",
   "metadata": {},
   "outputs": [
    {
     "data": {
      "text/latex": [
       "$\\displaystyle \\mu_{2} \\left(\\frac{g \\sin^{2}{\\left(z_{2} \\right)} - g \\cos^{2}{\\left(z_{2} \\right)} - z_{4}^{2} \\cos{\\left(z_{2} \\right)}}{- \\alpha + \\cos^{2}{\\left(z_{2} \\right)}} + \\frac{2 \\left(- g \\sin{\\left(z_{2} \\right)} \\cos{\\left(z_{2} \\right)} - u - z_{4}^{2} \\sin{\\left(z_{2} \\right)}\\right) \\sin{\\left(z_{2} \\right)} \\cos{\\left(z_{2} \\right)}}{\\left(- \\alpha + \\cos^{2}{\\left(z_{2} \\right)}\\right)^{2}}\\right) - \\frac{2 \\mu_{4} z_{4} \\sin{\\left(z_{2} \\right)}}{- \\alpha + \\cos^{2}{\\left(z_{2} \\right)}}$"
      ],
      "text/plain": [
       "mu2*((g*sin(z2)**2 - g*cos(z2)**2 - z4**2*cos(z2))/(-alpha + cos(z2)**2) + 2*(-g*sin(z2)*cos(z2) - u - z4**2*sin(z2))*sin(z2)*cos(z2)/(-alpha + cos(z2)**2)**2) - 2*mu4*z4*sin(z2)/(-alpha + cos(z2)**2)"
      ]
     },
     "execution_count": 36,
     "metadata": {},
     "output_type": "execute_result"
    }
   ],
   "source": [
    "A_dot_mu[2]"
   ]
  },
  {
   "cell_type": "code",
   "execution_count": 37,
   "id": "2c1a43b2-ff41-40c2-b1f2-fbb7718c357d",
   "metadata": {},
   "outputs": [
    {
     "data": {
      "text/latex": [
       "$\\displaystyle 0$"
      ],
      "text/plain": [
       "0"
      ]
     },
     "execution_count": 37,
     "metadata": {},
     "output_type": "execute_result"
    }
   ],
   "source": [
    "sympy.diff(A_dot_mu[2], z[0])"
   ]
  },
  {
   "cell_type": "code",
   "execution_count": 38,
   "id": "02be8b2e-dc6d-4108-bac6-3ed9cc9da00b",
   "metadata": {},
   "outputs": [
    {
     "data": {
      "text/latex": [
       "$\\displaystyle \\mu_{2} \\left(\\frac{4 g \\sin{\\left(z_{2} \\right)} \\cos{\\left(z_{2} \\right)} + z_{4}^{2} \\sin{\\left(z_{2} \\right)}}{- \\alpha + \\cos^{2}{\\left(z_{2} \\right)}} + \\frac{4 \\left(g \\sin^{2}{\\left(z_{2} \\right)} - g \\cos^{2}{\\left(z_{2} \\right)} - z_{4}^{2} \\cos{\\left(z_{2} \\right)}\\right) \\sin{\\left(z_{2} \\right)} \\cos{\\left(z_{2} \\right)}}{\\left(- \\alpha + \\cos^{2}{\\left(z_{2} \\right)}\\right)^{2}} - \\frac{2 \\left(- g \\sin{\\left(z_{2} \\right)} \\cos{\\left(z_{2} \\right)} - u - z_{4}^{2} \\sin{\\left(z_{2} \\right)}\\right) \\sin^{2}{\\left(z_{2} \\right)}}{\\left(- \\alpha + \\cos^{2}{\\left(z_{2} \\right)}\\right)^{2}} + \\frac{2 \\left(- g \\sin{\\left(z_{2} \\right)} \\cos{\\left(z_{2} \\right)} - u - z_{4}^{2} \\sin{\\left(z_{2} \\right)}\\right) \\cos^{2}{\\left(z_{2} \\right)}}{\\left(- \\alpha + \\cos^{2}{\\left(z_{2} \\right)}\\right)^{2}} + \\frac{8 \\left(- g \\sin{\\left(z_{2} \\right)} \\cos{\\left(z_{2} \\right)} - u - z_{4}^{2} \\sin{\\left(z_{2} \\right)}\\right) \\sin^{2}{\\left(z_{2} \\right)} \\cos^{2}{\\left(z_{2} \\right)}}{\\left(- \\alpha + \\cos^{2}{\\left(z_{2} \\right)}\\right)^{3}}\\right) - \\frac{2 \\mu_{4} z_{4} \\cos{\\left(z_{2} \\right)}}{- \\alpha + \\cos^{2}{\\left(z_{2} \\right)}} - \\frac{4 \\mu_{4} z_{4} \\sin^{2}{\\left(z_{2} \\right)} \\cos{\\left(z_{2} \\right)}}{\\left(- \\alpha + \\cos^{2}{\\left(z_{2} \\right)}\\right)^{2}}$"
      ],
      "text/plain": [
       "mu2*((4*g*sin(z2)*cos(z2) + z4**2*sin(z2))/(-alpha + cos(z2)**2) + 4*(g*sin(z2)**2 - g*cos(z2)**2 - z4**2*cos(z2))*sin(z2)*cos(z2)/(-alpha + cos(z2)**2)**2 - 2*(-g*sin(z2)*cos(z2) - u - z4**2*sin(z2))*sin(z2)**2/(-alpha + cos(z2)**2)**2 + 2*(-g*sin(z2)*cos(z2) - u - z4**2*sin(z2))*cos(z2)**2/(-alpha + cos(z2)**2)**2 + 8*(-g*sin(z2)*cos(z2) - u - z4**2*sin(z2))*sin(z2)**2*cos(z2)**2/(-alpha + cos(z2)**2)**3) - 2*mu4*z4*cos(z2)/(-alpha + cos(z2)**2) - 4*mu4*z4*sin(z2)**2*cos(z2)/(-alpha + cos(z2)**2)**2"
      ]
     },
     "execution_count": 38,
     "metadata": {},
     "output_type": "execute_result"
    }
   ],
   "source": [
    "sympy.diff(A_dot_mu[2], z[1])"
   ]
  },
  {
   "cell_type": "code",
   "execution_count": 39,
   "id": "bd5d5959-5953-4532-9f96-ee41407b89cf",
   "metadata": {},
   "outputs": [
    {
     "data": {
      "text/latex": [
       "$\\displaystyle 0$"
      ],
      "text/plain": [
       "0"
      ]
     },
     "execution_count": 39,
     "metadata": {},
     "output_type": "execute_result"
    }
   ],
   "source": [
    "sympy.diff(A_dot_mu[2], z[2])"
   ]
  },
  {
   "cell_type": "code",
   "execution_count": 40,
   "id": "e6d89cbc-0025-4480-9bf5-02f1ac4beeea",
   "metadata": {},
   "outputs": [
    {
     "data": {
      "text/latex": [
       "$\\displaystyle \\mu_{2} \\left(- \\frac{2 z_{4} \\cos{\\left(z_{2} \\right)}}{- \\alpha + \\cos^{2}{\\left(z_{2} \\right)}} - \\frac{4 z_{4} \\sin^{2}{\\left(z_{2} \\right)} \\cos{\\left(z_{2} \\right)}}{\\left(- \\alpha + \\cos^{2}{\\left(z_{2} \\right)}\\right)^{2}}\\right) - \\frac{2 \\mu_{4} \\sin{\\left(z_{2} \\right)}}{- \\alpha + \\cos^{2}{\\left(z_{2} \\right)}}$"
      ],
      "text/plain": [
       "mu2*(-2*z4*cos(z2)/(-alpha + cos(z2)**2) - 4*z4*sin(z2)**2*cos(z2)/(-alpha + cos(z2)**2)**2) - 2*mu4*sin(z2)/(-alpha + cos(z2)**2)"
      ]
     },
     "execution_count": 40,
     "metadata": {},
     "output_type": "execute_result"
    }
   ],
   "source": [
    "sympy.diff(A_dot_mu[2], z[3])"
   ]
  },
  {
   "cell_type": "code",
   "execution_count": 41,
   "id": "d6c3d5e7-1e9d-4efc-9fc4-1d91f22382c8",
   "metadata": {},
   "outputs": [
    {
     "data": {
      "text/latex": [
       "$\\displaystyle 0$"
      ],
      "text/plain": [
       "0"
      ]
     },
     "execution_count": 41,
     "metadata": {},
     "output_type": "execute_result"
    }
   ],
   "source": [
    "sympy.diff(A_dot_mu[3], z[0])"
   ]
  },
  {
   "cell_type": "code",
   "execution_count": 42,
   "id": "c578e3a1-cf82-48ee-a1a0-9252104c15ec",
   "metadata": {},
   "outputs": [
    {
     "data": {
      "text/latex": [
       "$\\displaystyle \\mu_{2} \\left(\\frac{- \\alpha g \\sin{\\left(z_{2} \\right)} - u \\cos{\\left(z_{2} \\right)} - 4 z_{4}^{2} \\sin{\\left(z_{2} \\right)} \\cos{\\left(z_{2} \\right)}}{- \\alpha + \\cos^{2}{\\left(z_{2} \\right)}} - \\frac{2 \\left(\\alpha g \\sin{\\left(z_{2} \\right)} + u \\cos{\\left(z_{2} \\right)} + z_{4}^{2} \\sin{\\left(z_{2} \\right)} \\cos{\\left(z_{2} \\right)}\\right) \\sin^{2}{\\left(z_{2} \\right)}}{\\left(- \\alpha + \\cos^{2}{\\left(z_{2} \\right)}\\right)^{2}} + \\frac{2 \\left(\\alpha g \\sin{\\left(z_{2} \\right)} + u \\cos{\\left(z_{2} \\right)} + z_{4}^{2} \\sin{\\left(z_{2} \\right)} \\cos{\\left(z_{2} \\right)}\\right) \\cos^{2}{\\left(z_{2} \\right)}}{\\left(- \\alpha + \\cos^{2}{\\left(z_{2} \\right)}\\right)^{2}} + \\frac{4 \\left(\\alpha g \\cos{\\left(z_{2} \\right)} - u \\sin{\\left(z_{2} \\right)} - z_{4}^{2} \\sin^{2}{\\left(z_{2} \\right)} + z_{4}^{2} \\cos^{2}{\\left(z_{2} \\right)}\\right) \\sin{\\left(z_{2} \\right)} \\cos{\\left(z_{2} \\right)}}{\\left(- \\alpha + \\cos^{2}{\\left(z_{2} \\right)}\\right)^{2}} + \\frac{8 \\left(\\alpha g \\sin{\\left(z_{2} \\right)} + u \\cos{\\left(z_{2} \\right)} + z_{4}^{2} \\sin{\\left(z_{2} \\right)} \\cos{\\left(z_{2} \\right)}\\right) \\sin^{2}{\\left(z_{2} \\right)} \\cos^{2}{\\left(z_{2} \\right)}}{\\left(- \\alpha + \\cos^{2}{\\left(z_{2} \\right)}\\right)^{3}}\\right) - \\frac{2 \\mu_{4} z_{4} \\sin^{2}{\\left(z_{2} \\right)}}{- \\alpha + \\cos^{2}{\\left(z_{2} \\right)}} + \\frac{2 \\mu_{4} z_{4} \\cos^{2}{\\left(z_{2} \\right)}}{- \\alpha + \\cos^{2}{\\left(z_{2} \\right)}} + \\frac{4 \\mu_{4} z_{4} \\sin^{2}{\\left(z_{2} \\right)} \\cos^{2}{\\left(z_{2} \\right)}}{\\left(- \\alpha + \\cos^{2}{\\left(z_{2} \\right)}\\right)^{2}}$"
      ],
      "text/plain": [
       "mu2*((-alpha*g*sin(z2) - u*cos(z2) - 4*z4**2*sin(z2)*cos(z2))/(-alpha + cos(z2)**2) - 2*(alpha*g*sin(z2) + u*cos(z2) + z4**2*sin(z2)*cos(z2))*sin(z2)**2/(-alpha + cos(z2)**2)**2 + 2*(alpha*g*sin(z2) + u*cos(z2) + z4**2*sin(z2)*cos(z2))*cos(z2)**2/(-alpha + cos(z2)**2)**2 + 4*(alpha*g*cos(z2) - u*sin(z2) - z4**2*sin(z2)**2 + z4**2*cos(z2)**2)*sin(z2)*cos(z2)/(-alpha + cos(z2)**2)**2 + 8*(alpha*g*sin(z2) + u*cos(z2) + z4**2*sin(z2)*cos(z2))*sin(z2)**2*cos(z2)**2/(-alpha + cos(z2)**2)**3) - 2*mu4*z4*sin(z2)**2/(-alpha + cos(z2)**2) + 2*mu4*z4*cos(z2)**2/(-alpha + cos(z2)**2) + 4*mu4*z4*sin(z2)**2*cos(z2)**2/(-alpha + cos(z2)**2)**2"
      ]
     },
     "execution_count": 42,
     "metadata": {},
     "output_type": "execute_result"
    }
   ],
   "source": [
    "sympy.diff(A_dot_mu[3], z[1])"
   ]
  },
  {
   "cell_type": "code",
   "execution_count": 43,
   "id": "24302f19-57ee-4161-b484-39af979d3020",
   "metadata": {},
   "outputs": [
    {
     "data": {
      "text/latex": [
       "$\\displaystyle 0$"
      ],
      "text/plain": [
       "0"
      ]
     },
     "execution_count": 43,
     "metadata": {},
     "output_type": "execute_result"
    }
   ],
   "source": [
    "sympy.diff(A_dot_mu[3], z[2])"
   ]
  },
  {
   "cell_type": "code",
   "execution_count": 44,
   "id": "0f302cfc-dd13-4538-a257-4afa8d2d5099",
   "metadata": {},
   "outputs": [
    {
     "data": {
      "text/latex": [
       "$\\displaystyle \\mu_{2} \\left(\\frac{4 z_{4} \\sin^{2}{\\left(z_{2} \\right)} \\cos^{2}{\\left(z_{2} \\right)}}{\\left(- \\alpha + \\cos^{2}{\\left(z_{2} \\right)}\\right)^{2}} + \\frac{- 2 z_{4} \\sin^{2}{\\left(z_{2} \\right)} + 2 z_{4} \\cos^{2}{\\left(z_{2} \\right)}}{- \\alpha + \\cos^{2}{\\left(z_{2} \\right)}}\\right) + \\frac{2 \\mu_{4} \\sin{\\left(z_{2} \\right)} \\cos{\\left(z_{2} \\right)}}{- \\alpha + \\cos^{2}{\\left(z_{2} \\right)}}$"
      ],
      "text/plain": [
       "mu2*(4*z4*sin(z2)**2*cos(z2)**2/(-alpha + cos(z2)**2)**2 + (-2*z4*sin(z2)**2 + 2*z4*cos(z2)**2)/(-alpha + cos(z2)**2)) + 2*mu4*sin(z2)*cos(z2)/(-alpha + cos(z2)**2)"
      ]
     },
     "execution_count": 44,
     "metadata": {},
     "output_type": "execute_result"
    }
   ],
   "source": [
    "sympy.diff(A_dot_mu[3], z[3])"
   ]
  },
  {
   "cell_type": "code",
   "execution_count": 45,
   "id": "41931d3a-0c93-4543-b84f-68c8db2ee6be",
   "metadata": {},
   "outputs": [
    {
     "data": {
      "text/latex": [
       "$\\displaystyle u$"
      ],
      "text/plain": [
       "u"
      ]
     },
     "execution_count": 45,
     "metadata": {},
     "output_type": "execute_result"
    }
   ],
   "source": [
    "u"
   ]
  },
  {
   "cell_type": "code",
   "execution_count": 50,
   "id": "3104bbde-9c6f-4a39-9586-aa75b079b49e",
   "metadata": {},
   "outputs": [],
   "source": [
    "v = sympy.symbols('v')"
   ]
  },
  {
   "cell_type": "code",
   "execution_count": 51,
   "id": "a75ee229-3cc1-4837-90d4-51b3ebc378b0",
   "metadata": {},
   "outputs": [],
   "source": [
    "p = sympy.symbols('p')"
   ]
  },
  {
   "cell_type": "code",
   "execution_count": 58,
   "id": "a64f1f5c-9aa3-478a-8915-9e501ea4d18e",
   "metadata": {},
   "outputs": [],
   "source": [
    "q = -1.0 * sympy.log(-(v - u))"
   ]
  },
  {
   "cell_type": "code",
   "execution_count": 59,
   "id": "e0ddc6b7-963f-489d-bea6-d157adb13022",
   "metadata": {},
   "outputs": [
    {
     "data": {
      "text/latex": [
       "$\\displaystyle - \\frac{1.0}{u - v}$"
      ],
      "text/plain": [
       "-1.0/(u - v)"
      ]
     },
     "execution_count": 59,
     "metadata": {},
     "output_type": "execute_result"
    }
   ],
   "source": [
    "sympy.diff(q, u)"
   ]
  },
  {
   "cell_type": "code",
   "execution_count": 54,
   "id": "3c40488d-b0ec-4eb0-84fc-bbcf340d7bbc",
   "metadata": {},
   "outputs": [
    {
     "data": {
      "text/latex": [
       "$\\displaystyle \\frac{1.0}{\\left(- u + v\\right)^{2}}$"
      ],
      "text/plain": [
       "1.0/(-u + v)**2"
      ]
     },
     "execution_count": 54,
     "metadata": {},
     "output_type": "execute_result"
    }
   ],
   "source": [
    "sympy.diff(sympy.diff(q, u), u)"
   ]
  },
  {
   "cell_type": "code",
   "execution_count": 56,
   "id": "deb39846-9fdc-4206-a3a5-889e4539770b",
   "metadata": {},
   "outputs": [
    {
     "data": {
      "text/latex": [
       "$\\displaystyle \\frac{1.0}{\\left(u - v\\right)^{2}}$"
      ],
      "text/plain": [
       "1.0/(u - v)**2"
      ]
     },
     "execution_count": 56,
     "metadata": {},
     "output_type": "execute_result"
    }
   ],
   "source": [
    "sympy.diff(sympy.diff(q, u), u)"
   ]
  },
  {
   "cell_type": "code",
   "execution_count": null,
   "id": "d2bfca5a-9c45-4171-bcb0-0dbb96fff220",
   "metadata": {},
   "outputs": [],
   "source": []
  }
 ],
 "metadata": {
  "kernelspec": {
   "display_name": "Python 3 (ipykernel)",
   "language": "python",
   "name": "python3"
  },
  "language_info": {
   "codemirror_mode": {
    "name": "ipython",
    "version": 3
   },
   "file_extension": ".py",
   "mimetype": "text/x-python",
   "name": "python",
   "nbconvert_exporter": "python",
   "pygments_lexer": "ipython3",
   "version": "3.10.12"
  }
 },
 "nbformat": 4,
 "nbformat_minor": 5
}
