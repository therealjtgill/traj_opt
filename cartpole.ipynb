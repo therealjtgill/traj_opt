{
 "cells": [
  {
   "cell_type": "code",
   "execution_count": 1,
   "id": "e7c6ff11-d782-4ecd-97dc-5f6fa3b32da2",
   "metadata": {},
   "outputs": [],
   "source": [
    "import sympy"
   ]
  },
  {
   "cell_type": "code",
   "execution_count": 2,
   "id": "9620271c-be99-4540-9e3e-62e9d1d19c4e",
   "metadata": {},
   "outputs": [],
   "source": [
    "z = sympy.symbols(\"z1:5\")\n",
    "# z = sympy.symbols(\"z0:4\")"
   ]
  },
  {
   "cell_type": "code",
   "execution_count": 3,
   "id": "c8c58c96-afff-4d96-a9b2-0080ef5f2e40",
   "metadata": {},
   "outputs": [
    {
     "data": {
      "text/plain": [
       "(z1, z2, z3, z4)"
      ]
     },
     "execution_count": 3,
     "metadata": {},
     "output_type": "execute_result"
    }
   ],
   "source": [
    "z"
   ]
  },
  {
   "cell_type": "code",
   "execution_count": 4,
   "id": "53bfd984-542a-4f6c-aa69-c060fa1f9945",
   "metadata": {},
   "outputs": [],
   "source": [
    "alpha = sympy.symbols(\"alpha\")\n",
    "l = sympy.symbols(\"l\")\n",
    "premult = (sympy.cos(z[1])**2 - l *alpha)**(-1)"
   ]
  },
  {
   "cell_type": "code",
   "execution_count": 5,
   "id": "bd85b5cf-db1d-4a01-857f-124e127c8cd7",
   "metadata": {},
   "outputs": [
    {
     "data": {
      "text/latex": [
       "$\\displaystyle \\frac{1}{- \\alpha l + \\cos^{2}{\\left(z_{2} \\right)}}$"
      ],
      "text/plain": [
       "1/(-alpha*l + cos(z2)**2)"
      ]
     },
     "execution_count": 5,
     "metadata": {},
     "output_type": "execute_result"
    }
   ],
   "source": [
    "premult"
   ]
  },
  {
   "cell_type": "code",
   "execution_count": 6,
   "id": "05049997-7085-49ff-a072-1d4039868e02",
   "metadata": {},
   "outputs": [],
   "source": [
    "u = sympy.symbols(\"u\")"
   ]
  },
  {
   "cell_type": "code",
   "execution_count": 7,
   "id": "3c9808e3-fbe2-40f9-bc14-c7400014c752",
   "metadata": {},
   "outputs": [],
   "source": [
    "g = sympy.symbols(\"g\")\n",
    "z_dot = (\n",
    "    z[2],\n",
    "    z[3],\n",
    "    premult * (-g * sympy.sin(z[1]) * sympy.cos(z[1]) - l * u - l * (z[3]**2) * sympy.sin(z[1])),\n",
    "    premult * (alpha * g * sympy.sin(z[1]) + u * sympy.cos(z[1]) + (z[3]**2) * sympy.sin(z[1]) * sympy.cos(z[1])),\n",
    ")"
   ]
  },
  {
   "cell_type": "code",
   "execution_count": 8,
   "id": "f9d3aa60-472f-4a40-a6b7-2f9e6c203dee",
   "metadata": {},
   "outputs": [
    {
     "data": {
      "text/plain": [
       "(z3,\n",
       " z4,\n",
       " (-g*sin(z2)*cos(z2) - l*u - l*z4**2*sin(z2))/(-alpha*l + cos(z2)**2),\n",
       " (alpha*g*sin(z2) + u*cos(z2) + z4**2*sin(z2)*cos(z2))/(-alpha*l + cos(z2)**2))"
      ]
     },
     "execution_count": 8,
     "metadata": {},
     "output_type": "execute_result"
    }
   ],
   "source": [
    "z_dot"
   ]
  },
  {
   "cell_type": "markdown",
   "id": "acfa5680-e151-4771-abfd-9ac2eea08602",
   "metadata": {},
   "source": [
    "## $A_{0,0}$"
   ]
  },
  {
   "cell_type": "code",
   "execution_count": 9,
   "id": "0de124e0-8f1f-406d-b95d-d1f3b008fad7",
   "metadata": {},
   "outputs": [
    {
     "data": {
      "text/latex": [
       "$\\displaystyle 0$"
      ],
      "text/plain": [
       "0"
      ]
     },
     "execution_count": 9,
     "metadata": {},
     "output_type": "execute_result"
    }
   ],
   "source": [
    "sympy.diff(z_dot[0], z[0])"
   ]
  },
  {
   "cell_type": "markdown",
   "id": "070c1d54-7f76-48e5-b536-b2968c94a8bd",
   "metadata": {},
   "source": [
    "## $A_{0,1}$"
   ]
  },
  {
   "cell_type": "code",
   "execution_count": 10,
   "id": "5ebef38c-6ebf-47b9-bfe5-c20827831e20",
   "metadata": {},
   "outputs": [
    {
     "data": {
      "text/latex": [
       "$\\displaystyle 0$"
      ],
      "text/plain": [
       "0"
      ]
     },
     "execution_count": 10,
     "metadata": {},
     "output_type": "execute_result"
    }
   ],
   "source": [
    "sympy.diff(z_dot[0], z[1])"
   ]
  },
  {
   "cell_type": "markdown",
   "id": "2c74b311-d8dc-4a63-b881-84cee62c1916",
   "metadata": {},
   "source": [
    "## $A_{0,2}$"
   ]
  },
  {
   "cell_type": "code",
   "execution_count": 11,
   "id": "7647aad9-23ca-4dab-94b4-3df2bad9dadb",
   "metadata": {},
   "outputs": [
    {
     "data": {
      "text/latex": [
       "$\\displaystyle 1$"
      ],
      "text/plain": [
       "1"
      ]
     },
     "execution_count": 11,
     "metadata": {},
     "output_type": "execute_result"
    }
   ],
   "source": [
    "sympy.diff(z_dot[0], z[2])"
   ]
  },
  {
   "cell_type": "markdown",
   "id": "08d42f37-ae44-459a-b315-912a1f6dad5d",
   "metadata": {},
   "source": [
    "## $A_{0,3}$"
   ]
  },
  {
   "cell_type": "code",
   "execution_count": 12,
   "id": "7fe5ca18-80d2-4320-b8c9-01506cddea81",
   "metadata": {},
   "outputs": [
    {
     "data": {
      "text/latex": [
       "$\\displaystyle 0$"
      ],
      "text/plain": [
       "0"
      ]
     },
     "execution_count": 12,
     "metadata": {},
     "output_type": "execute_result"
    }
   ],
   "source": [
    "sympy.diff(z_dot[0], z[3])"
   ]
  },
  {
   "cell_type": "markdown",
   "id": "b5e53223-f838-43d7-bc61-be06ad7030fb",
   "metadata": {},
   "source": [
    "## $A_{1,0}$"
   ]
  },
  {
   "cell_type": "code",
   "execution_count": 13,
   "id": "d0c5b9ac-19b2-4a70-842e-094cffb1c367",
   "metadata": {},
   "outputs": [
    {
     "data": {
      "text/latex": [
       "$\\displaystyle 0$"
      ],
      "text/plain": [
       "0"
      ]
     },
     "execution_count": 13,
     "metadata": {},
     "output_type": "execute_result"
    }
   ],
   "source": [
    "sympy.diff(z_dot[1], z[0])"
   ]
  },
  {
   "cell_type": "markdown",
   "id": "ed615a79-17ad-4bb1-b27a-74eba801b795",
   "metadata": {},
   "source": [
    "## $A_{1,1}$"
   ]
  },
  {
   "cell_type": "code",
   "execution_count": 14,
   "id": "afd9b9db-213f-4d2d-9419-5dbcef695fab",
   "metadata": {},
   "outputs": [
    {
     "data": {
      "text/latex": [
       "$\\displaystyle 0$"
      ],
      "text/plain": [
       "0"
      ]
     },
     "execution_count": 14,
     "metadata": {},
     "output_type": "execute_result"
    }
   ],
   "source": [
    "sympy.diff(z_dot[1], z[1])"
   ]
  },
  {
   "cell_type": "markdown",
   "id": "6579cda8-57ee-481c-ab61-535d47f3f602",
   "metadata": {},
   "source": [
    "## $A_{1,2}$"
   ]
  },
  {
   "cell_type": "code",
   "execution_count": 15,
   "id": "5975db47-eb11-4ac8-b3c4-ebf6fe4af810",
   "metadata": {},
   "outputs": [
    {
     "data": {
      "text/latex": [
       "$\\displaystyle 0$"
      ],
      "text/plain": [
       "0"
      ]
     },
     "execution_count": 15,
     "metadata": {},
     "output_type": "execute_result"
    }
   ],
   "source": [
    "sympy.diff(z_dot[1], z[2])"
   ]
  },
  {
   "cell_type": "markdown",
   "id": "7337b1f2-c0dc-4f2f-8a38-9b6e9ad318de",
   "metadata": {},
   "source": [
    "## $A_{1,3}$"
   ]
  },
  {
   "cell_type": "code",
   "execution_count": 16,
   "id": "f64471fd-1167-40ee-b6c6-114cc2ebad33",
   "metadata": {},
   "outputs": [
    {
     "data": {
      "text/latex": [
       "$\\displaystyle 1$"
      ],
      "text/plain": [
       "1"
      ]
     },
     "execution_count": 16,
     "metadata": {},
     "output_type": "execute_result"
    }
   ],
   "source": [
    "sympy.diff(z_dot[1], z[3])"
   ]
  },
  {
   "cell_type": "markdown",
   "id": "48723bed-de7e-423c-934f-f7f3fc64ddcc",
   "metadata": {},
   "source": [
    "## $A_{2,0}$"
   ]
  },
  {
   "cell_type": "code",
   "execution_count": 17,
   "id": "9112f87c-83cd-48cb-a711-c6fa6d87eb3c",
   "metadata": {},
   "outputs": [
    {
     "data": {
      "text/latex": [
       "$\\displaystyle 0$"
      ],
      "text/plain": [
       "0"
      ]
     },
     "execution_count": 17,
     "metadata": {},
     "output_type": "execute_result"
    }
   ],
   "source": [
    "sympy.diff(z_dot[2], z[0])"
   ]
  },
  {
   "cell_type": "markdown",
   "id": "bcf92292-5215-4650-af64-b60c6903944b",
   "metadata": {},
   "source": [
    "## $A_{2,1}$"
   ]
  },
  {
   "cell_type": "code",
   "execution_count": 18,
   "id": "bf693e42-fe21-456d-b57f-b9d71da0e0e9",
   "metadata": {},
   "outputs": [
    {
     "data": {
      "text/latex": [
       "$\\displaystyle \\frac{g \\sin^{2}{\\left(z_{2} \\right)} - g \\cos^{2}{\\left(z_{2} \\right)} - l z_{4}^{2} \\cos{\\left(z_{2} \\right)}}{- \\alpha l + \\cos^{2}{\\left(z_{2} \\right)}} + \\frac{2 \\left(- g \\sin{\\left(z_{2} \\right)} \\cos{\\left(z_{2} \\right)} - l u - l z_{4}^{2} \\sin{\\left(z_{2} \\right)}\\right) \\sin{\\left(z_{2} \\right)} \\cos{\\left(z_{2} \\right)}}{\\left(- \\alpha l + \\cos^{2}{\\left(z_{2} \\right)}\\right)^{2}}$"
      ],
      "text/plain": [
       "(g*sin(z2)**2 - g*cos(z2)**2 - l*z4**2*cos(z2))/(-alpha*l + cos(z2)**2) + 2*(-g*sin(z2)*cos(z2) - l*u - l*z4**2*sin(z2))*sin(z2)*cos(z2)/(-alpha*l + cos(z2)**2)**2"
      ]
     },
     "execution_count": 18,
     "metadata": {},
     "output_type": "execute_result"
    }
   ],
   "source": [
    "sympy.diff(z_dot[2], z[1])"
   ]
  },
  {
   "cell_type": "code",
   "execution_count": 19,
   "id": "0a6560cc-5bea-42ca-9937-690f72104f7a",
   "metadata": {},
   "outputs": [
    {
     "name": "stdout",
     "output_type": "stream",
     "text": [
      "\\frac{g \\sin^{2}{\\left(z_{2} \\right)} - g \\cos^{2}{\\left(z_{2} \\right)} - l z_{4}^{2} \\cos{\\left(z_{2} \\right)}}{- \\alpha l + \\cos^{2}{\\left(z_{2} \\right)}} + \\frac{2 \\left(- g \\sin{\\left(z_{2} \\right)} \\cos{\\left(z_{2} \\right)} - l u - l z_{4}^{2} \\sin{\\left(z_{2} \\right)}\\right) \\sin{\\left(z_{2} \\right)} \\cos{\\left(z_{2} \\right)}}{\\left(- \\alpha l + \\cos^{2}{\\left(z_{2} \\right)}\\right)^{2}}\n"
     ]
    }
   ],
   "source": [
    "print(sympy.latex(sympy.diff(z_dot[2], z[1])))"
   ]
  },
  {
   "cell_type": "markdown",
   "id": "840b2e5c-b60a-4206-aede-5084fee226c3",
   "metadata": {},
   "source": [
    "## $A_{2,2}$"
   ]
  },
  {
   "cell_type": "code",
   "execution_count": 20,
   "id": "cd9fcfff-fa2e-4acf-b034-aeea5531e089",
   "metadata": {},
   "outputs": [
    {
     "data": {
      "text/latex": [
       "$\\displaystyle 0$"
      ],
      "text/plain": [
       "0"
      ]
     },
     "execution_count": 20,
     "metadata": {},
     "output_type": "execute_result"
    }
   ],
   "source": [
    "sympy.diff(z_dot[2], z[2])"
   ]
  },
  {
   "cell_type": "markdown",
   "id": "5ff85990-e8ef-4a63-b075-4ec6b7e540cb",
   "metadata": {},
   "source": [
    "## $A_{2,3}$"
   ]
  },
  {
   "cell_type": "code",
   "execution_count": 21,
   "id": "8094cda6-fb9b-4b7c-b17f-874404245e52",
   "metadata": {},
   "outputs": [
    {
     "data": {
      "text/latex": [
       "$\\displaystyle - \\frac{2 l z_{4} \\sin{\\left(z_{2} \\right)}}{- \\alpha l + \\cos^{2}{\\left(z_{2} \\right)}}$"
      ],
      "text/plain": [
       "-2*l*z4*sin(z2)/(-alpha*l + cos(z2)**2)"
      ]
     },
     "execution_count": 21,
     "metadata": {},
     "output_type": "execute_result"
    }
   ],
   "source": [
    "sympy.diff(z_dot[2], z[3])"
   ]
  },
  {
   "cell_type": "code",
   "execution_count": 22,
   "id": "b3861a88-6d07-49c9-a325-4b3f3d2c0ba5",
   "metadata": {},
   "outputs": [
    {
     "name": "stdout",
     "output_type": "stream",
     "text": [
      "- \\frac{2 l z_{4} \\sin{\\left(z_{2} \\right)}}{- \\alpha l + \\cos^{2}{\\left(z_{2} \\right)}}\n"
     ]
    }
   ],
   "source": [
    "print(sympy.latex(sympy.diff(z_dot[2], z[3])))"
   ]
  },
  {
   "cell_type": "markdown",
   "id": "88cedf18-b1f0-48c5-b557-4330e241fa79",
   "metadata": {},
   "source": [
    "## $A_{3,0}$"
   ]
  },
  {
   "cell_type": "code",
   "execution_count": 23,
   "id": "c7159c67-7b42-48f1-867f-2b940cd9fe5f",
   "metadata": {},
   "outputs": [
    {
     "data": {
      "text/latex": [
       "$\\displaystyle 0$"
      ],
      "text/plain": [
       "0"
      ]
     },
     "execution_count": 23,
     "metadata": {},
     "output_type": "execute_result"
    }
   ],
   "source": [
    "sympy.diff(z_dot[3], z[0])"
   ]
  },
  {
   "cell_type": "markdown",
   "id": "5815841c-907b-4471-9dae-f56cfae657c8",
   "metadata": {},
   "source": [
    "## $A_{3,1}$"
   ]
  },
  {
   "cell_type": "code",
   "execution_count": 24,
   "id": "2aa204f4-8e78-49e8-9118-e62bbf4e22ba",
   "metadata": {},
   "outputs": [
    {
     "data": {
      "text/latex": [
       "$\\displaystyle \\frac{\\alpha g \\cos{\\left(z_{2} \\right)} - u \\sin{\\left(z_{2} \\right)} - z_{4}^{2} \\sin^{2}{\\left(z_{2} \\right)} + z_{4}^{2} \\cos^{2}{\\left(z_{2} \\right)}}{- \\alpha l + \\cos^{2}{\\left(z_{2} \\right)}} + \\frac{2 \\left(\\alpha g \\sin{\\left(z_{2} \\right)} + u \\cos{\\left(z_{2} \\right)} + z_{4}^{2} \\sin{\\left(z_{2} \\right)} \\cos{\\left(z_{2} \\right)}\\right) \\sin{\\left(z_{2} \\right)} \\cos{\\left(z_{2} \\right)}}{\\left(- \\alpha l + \\cos^{2}{\\left(z_{2} \\right)}\\right)^{2}}$"
      ],
      "text/plain": [
       "(alpha*g*cos(z2) - u*sin(z2) - z4**2*sin(z2)**2 + z4**2*cos(z2)**2)/(-alpha*l + cos(z2)**2) + 2*(alpha*g*sin(z2) + u*cos(z2) + z4**2*sin(z2)*cos(z2))*sin(z2)*cos(z2)/(-alpha*l + cos(z2)**2)**2"
      ]
     },
     "execution_count": 24,
     "metadata": {},
     "output_type": "execute_result"
    }
   ],
   "source": [
    "sympy.diff(z_dot[3], z[1])"
   ]
  },
  {
   "cell_type": "code",
   "execution_count": 25,
   "id": "cfb20304-bacf-4613-b230-9b80ca12515d",
   "metadata": {},
   "outputs": [
    {
     "name": "stdout",
     "output_type": "stream",
     "text": [
      "\\frac{\\alpha g \\cos{\\left(z_{2} \\right)} - u \\sin{\\left(z_{2} \\right)} - z_{4}^{2} \\sin^{2}{\\left(z_{2} \\right)} + z_{4}^{2} \\cos^{2}{\\left(z_{2} \\right)}}{- \\alpha l + \\cos^{2}{\\left(z_{2} \\right)}} + \\frac{2 \\left(\\alpha g \\sin{\\left(z_{2} \\right)} + u \\cos{\\left(z_{2} \\right)} + z_{4}^{2} \\sin{\\left(z_{2} \\right)} \\cos{\\left(z_{2} \\right)}\\right) \\sin{\\left(z_{2} \\right)} \\cos{\\left(z_{2} \\right)}}{\\left(- \\alpha l + \\cos^{2}{\\left(z_{2} \\right)}\\right)^{2}}\n"
     ]
    }
   ],
   "source": [
    "print(sympy.latex(sympy.diff(z_dot[3], z[1])))"
   ]
  },
  {
   "cell_type": "markdown",
   "id": "79bc0f32-0cb4-44ac-b452-ffbfc7c0de89",
   "metadata": {},
   "source": [
    "## $A_{3,2}$"
   ]
  },
  {
   "cell_type": "code",
   "execution_count": 26,
   "id": "fe53ab20-6e10-4379-8edf-aa821e66b7a6",
   "metadata": {},
   "outputs": [
    {
     "data": {
      "text/latex": [
       "$\\displaystyle 0$"
      ],
      "text/plain": [
       "0"
      ]
     },
     "execution_count": 26,
     "metadata": {},
     "output_type": "execute_result"
    }
   ],
   "source": [
    "sympy.diff(z_dot[3], z[2])"
   ]
  },
  {
   "cell_type": "markdown",
   "id": "255bb434-3b52-400d-aac2-a7365a445942",
   "metadata": {},
   "source": [
    "## $A_{3,3}$"
   ]
  },
  {
   "cell_type": "code",
   "execution_count": 27,
   "id": "3f2cb88d-a72b-4dcd-8813-50558060beaa",
   "metadata": {},
   "outputs": [
    {
     "data": {
      "text/latex": [
       "$\\displaystyle \\frac{2 z_{4} \\sin{\\left(z_{2} \\right)} \\cos{\\left(z_{2} \\right)}}{- \\alpha l + \\cos^{2}{\\left(z_{2} \\right)}}$"
      ],
      "text/plain": [
       "2*z4*sin(z2)*cos(z2)/(-alpha*l + cos(z2)**2)"
      ]
     },
     "execution_count": 27,
     "metadata": {},
     "output_type": "execute_result"
    }
   ],
   "source": [
    "sympy.diff(z_dot[3], z[3])"
   ]
  },
  {
   "cell_type": "code",
   "execution_count": 28,
   "id": "cea07c08-5c7a-4321-9cdf-ca9090998626",
   "metadata": {},
   "outputs": [
    {
     "name": "stdout",
     "output_type": "stream",
     "text": [
      "\\frac{2 z_{4} \\sin{\\left(z_{2} \\right)} \\cos{\\left(z_{2} \\right)}}{- \\alpha l + \\cos^{2}{\\left(z_{2} \\right)}}\n"
     ]
    }
   ],
   "source": [
    "print(sympy.latex(sympy.diff(z_dot[3], z[3])))"
   ]
  },
  {
   "cell_type": "markdown",
   "id": "b8c3c8ba-fb5e-403b-a420-28687c09f13b",
   "metadata": {},
   "source": [
    "## $b_0$"
   ]
  },
  {
   "cell_type": "code",
   "execution_count": 29,
   "id": "82e12194-7896-4c70-b0d3-4e55f688dfd1",
   "metadata": {
    "scrolled": true
   },
   "outputs": [
    {
     "data": {
      "text/latex": [
       "$\\displaystyle 0$"
      ],
      "text/plain": [
       "0"
      ]
     },
     "execution_count": 29,
     "metadata": {},
     "output_type": "execute_result"
    }
   ],
   "source": [
    "sympy.diff(z_dot[0], u)"
   ]
  },
  {
   "cell_type": "markdown",
   "id": "1d53d24c-1cab-458e-9861-ccaed401af06",
   "metadata": {},
   "source": [
    "## $b_1$"
   ]
  },
  {
   "cell_type": "code",
   "execution_count": 30,
   "id": "1fe3f303-f1fb-4dc7-bd74-6e0c408d822e",
   "metadata": {},
   "outputs": [
    {
     "data": {
      "text/latex": [
       "$\\displaystyle 0$"
      ],
      "text/plain": [
       "0"
      ]
     },
     "execution_count": 30,
     "metadata": {},
     "output_type": "execute_result"
    }
   ],
   "source": [
    "sympy.diff(z_dot[1], u)"
   ]
  },
  {
   "cell_type": "markdown",
   "id": "43722d5a-6391-4ec8-824a-6341e974c9ec",
   "metadata": {},
   "source": [
    "## $b_2$"
   ]
  },
  {
   "cell_type": "code",
   "execution_count": 31,
   "id": "6a102a92-c175-400e-bfcb-2b9311b235a9",
   "metadata": {},
   "outputs": [
    {
     "data": {
      "text/latex": [
       "$\\displaystyle - \\frac{l}{- \\alpha l + \\cos^{2}{\\left(z_{2} \\right)}}$"
      ],
      "text/plain": [
       "-l/(-alpha*l + cos(z2)**2)"
      ]
     },
     "execution_count": 31,
     "metadata": {},
     "output_type": "execute_result"
    }
   ],
   "source": [
    "sympy.diff(z_dot[2], u)"
   ]
  },
  {
   "cell_type": "code",
   "execution_count": 32,
   "id": "82d8b8f0-b066-49d9-9fed-61be17861e1d",
   "metadata": {},
   "outputs": [
    {
     "name": "stdout",
     "output_type": "stream",
     "text": [
      "- \\frac{l}{- \\alpha l + \\cos^{2}{\\left(z_{2} \\right)}}\n"
     ]
    }
   ],
   "source": [
    "print(sympy.latex(sympy.diff(z_dot[2], u)))"
   ]
  },
  {
   "cell_type": "markdown",
   "id": "53fa7596-f219-4de5-bc89-294aab31a672",
   "metadata": {},
   "source": [
    "## $b_3$"
   ]
  },
  {
   "cell_type": "code",
   "execution_count": 33,
   "id": "5fbe6aca-c282-40a3-9103-60b4d344ab67",
   "metadata": {},
   "outputs": [
    {
     "data": {
      "text/latex": [
       "$\\displaystyle \\frac{\\cos{\\left(z_{2} \\right)}}{- \\alpha l + \\cos^{2}{\\left(z_{2} \\right)}}$"
      ],
      "text/plain": [
       "cos(z2)/(-alpha*l + cos(z2)**2)"
      ]
     },
     "execution_count": 33,
     "metadata": {},
     "output_type": "execute_result"
    }
   ],
   "source": [
    "sympy.diff(z_dot[3], u)"
   ]
  },
  {
   "cell_type": "code",
   "execution_count": 34,
   "id": "44b2bff8-d05a-488c-b216-30ac078541c2",
   "metadata": {},
   "outputs": [
    {
     "name": "stdout",
     "output_type": "stream",
     "text": [
      "\\frac{\\cos{\\left(z_{2} \\right)}}{- \\alpha l + \\cos^{2}{\\left(z_{2} \\right)}}\n"
     ]
    }
   ],
   "source": [
    "print(sympy.latex(sympy.diff(z_dot[3], u)))"
   ]
  },
  {
   "cell_type": "code",
   "execution_count": null,
   "id": "289411d4-da29-4ce8-a5ea-e0d3e8840127",
   "metadata": {},
   "outputs": [],
   "source": []
  },
  {
   "cell_type": "code",
   "execution_count": null,
   "id": "24f30dca-5520-47c2-9723-4a90ab92f24d",
   "metadata": {},
   "outputs": [],
   "source": []
  },
  {
   "cell_type": "code",
   "execution_count": null,
   "id": "6f24649a-293a-4553-a25f-b57d9858327e",
   "metadata": {},
   "outputs": [],
   "source": []
  },
  {
   "cell_type": "code",
   "execution_count": 35,
   "id": "6eae31da-032c-4063-bfb8-70816d65d3dd",
   "metadata": {},
   "outputs": [
    {
     "data": {
      "text/latex": [
       "$\\displaystyle \\frac{g \\sin^{2}{\\left(z_{2} \\right)} - g \\cos^{2}{\\left(z_{2} \\right)} - l z_{4}^{2} \\cos{\\left(z_{2} \\right)}}{- \\alpha l + \\cos^{2}{\\left(z_{2} \\right)}} + \\frac{2 \\left(- g \\sin{\\left(z_{2} \\right)} \\cos{\\left(z_{2} \\right)} - l u - l z_{4}^{2} \\sin{\\left(z_{2} \\right)}\\right) \\sin{\\left(z_{2} \\right)} \\cos{\\left(z_{2} \\right)}}{\\left(- \\alpha l + \\cos^{2}{\\left(z_{2} \\right)}\\right)^{2}}$"
      ],
      "text/plain": [
       "(g*sin(z2)**2 - g*cos(z2)**2 - l*z4**2*cos(z2))/(-alpha*l + cos(z2)**2) + 2*(-g*sin(z2)*cos(z2) - l*u - l*z4**2*sin(z2))*sin(z2)*cos(z2)/(-alpha*l + cos(z2)**2)**2"
      ]
     },
     "execution_count": 35,
     "metadata": {},
     "output_type": "execute_result"
    }
   ],
   "source": [
    "sympy.diff(z_dot[2], z[1])"
   ]
  },
  {
   "cell_type": "code",
   "execution_count": 36,
   "id": "37745cce-d19c-4c4a-a2fc-c74501c7486b",
   "metadata": {},
   "outputs": [
    {
     "data": {
      "text/latex": [
       "$\\displaystyle \\frac{- \\left(4 g \\cos{\\left(z_{2} \\right)} + l z_{4}^{2}\\right) \\sin{\\left(z_{2} \\right)} - \\frac{4 \\left(- g \\sin^{2}{\\left(z_{2} \\right)} + g \\cos^{2}{\\left(z_{2} \\right)} + l z_{4}^{2} \\cos{\\left(z_{2} \\right)}\\right) \\sin{\\left(z_{2} \\right)} \\cos{\\left(z_{2} \\right)}}{\\alpha l - \\cos^{2}{\\left(z_{2} \\right)}} + \\frac{2 \\left(g \\sin{\\left(z_{2} \\right)} \\cos{\\left(z_{2} \\right)} + l u + l z_{4}^{2} \\sin{\\left(z_{2} \\right)}\\right) \\left(\\sin^{2}{\\left(z_{2} \\right)} - \\cos^{2}{\\left(z_{2} \\right)} + \\frac{4 \\sin^{2}{\\left(z_{2} \\right)} \\cos^{2}{\\left(z_{2} \\right)}}{\\alpha l - \\cos^{2}{\\left(z_{2} \\right)}}\\right)}{\\alpha l - \\cos^{2}{\\left(z_{2} \\right)}}}{\\alpha l - \\cos^{2}{\\left(z_{2} \\right)}}$"
      ],
      "text/plain": [
       "(-(4*g*cos(z2) + l*z4**2)*sin(z2) - 4*(-g*sin(z2)**2 + g*cos(z2)**2 + l*z4**2*cos(z2))*sin(z2)*cos(z2)/(alpha*l - cos(z2)**2) + 2*(g*sin(z2)*cos(z2) + l*u + l*z4**2*sin(z2))*(sin(z2)**2 - cos(z2)**2 + 4*sin(z2)**2*cos(z2)**2/(alpha*l - cos(z2)**2))/(alpha*l - cos(z2)**2))/(alpha*l - cos(z2)**2)"
      ]
     },
     "execution_count": 36,
     "metadata": {},
     "output_type": "execute_result"
    }
   ],
   "source": [
    "sympy.diff(z_dot[2], z[1], z[1])"
   ]
  },
  {
   "cell_type": "code",
   "execution_count": 37,
   "id": "2cc34b24-6694-4540-b7e8-012e8623a240",
   "metadata": {},
   "outputs": [
    {
     "data": {
      "text/latex": [
       "$\\displaystyle - \\frac{2 l z_{4} \\sin{\\left(z_{2} \\right)}}{- \\alpha l + \\cos^{2}{\\left(z_{2} \\right)}}$"
      ],
      "text/plain": [
       "-2*l*z4*sin(z2)/(-alpha*l + cos(z2)**2)"
      ]
     },
     "execution_count": 37,
     "metadata": {},
     "output_type": "execute_result"
    }
   ],
   "source": [
    "sympy.diff(z_dot[2], z[3])"
   ]
  },
  {
   "cell_type": "code",
   "execution_count": 38,
   "id": "2836c9f0-c8c4-43cc-927a-45720ea3c04e",
   "metadata": {},
   "outputs": [
    {
     "data": {
      "text/latex": [
       "$\\displaystyle \\frac{2 l \\sin{\\left(z_{2} \\right)}}{\\alpha l - \\cos^{2}{\\left(z_{2} \\right)}}$"
      ],
      "text/plain": [
       "2*l*sin(z2)/(alpha*l - cos(z2)**2)"
      ]
     },
     "execution_count": 38,
     "metadata": {},
     "output_type": "execute_result"
    }
   ],
   "source": [
    "sympy.diff(z_dot[2], z[3], z[3])"
   ]
  },
  {
   "cell_type": "code",
   "execution_count": 39,
   "id": "5f408438-bc47-4317-86de-026b327ad017",
   "metadata": {},
   "outputs": [
    {
     "name": "stdout",
     "output_type": "stream",
     "text": [
      "i, j: ( 0 , 0 )\n",
      "0\n",
      "i, j: ( 0 , 1 )\n",
      "0\n",
      "i, j: ( 0 , 2 )\n",
      "1\n",
      "i, j: ( 0 , 3 )\n",
      "0\n",
      "i, j: ( 1 , 0 )\n",
      "0\n",
      "i, j: ( 1 , 1 )\n",
      "0\n",
      "i, j: ( 1 , 2 )\n",
      "0\n",
      "i, j: ( 1 , 3 )\n",
      "1\n",
      "i, j: ( 2 , 0 )\n",
      "0\n",
      "i, j: ( 2 , 1 )\n",
      "(g*sin(z2)**2 - g*cos(z2)**2 - l*z4**2*cos(z2))/(-alpha*l + cos(z2)**2) + 2*(-g*sin(z2)*cos(z2) - l*u - l*z4**2*sin(z2))*sin(z2)*cos(z2)/(-alpha*l + cos(z2)**2)**2\n",
      "i, j: ( 2 , 2 )\n",
      "0\n",
      "i, j: ( 2 , 3 )\n",
      "-2*l*z4*sin(z2)/(-alpha*l + cos(z2)**2)\n",
      "i, j: ( 3 , 0 )\n",
      "0\n",
      "i, j: ( 3 , 1 )\n",
      "(alpha*g*cos(z2) - u*sin(z2) - z4**2*sin(z2)**2 + z4**2*cos(z2)**2)/(-alpha*l + cos(z2)**2) + 2*(alpha*g*sin(z2) + u*cos(z2) + z4**2*sin(z2)*cos(z2))*sin(z2)*cos(z2)/(-alpha*l + cos(z2)**2)**2\n",
      "i, j: ( 3 , 2 )\n",
      "0\n",
      "i, j: ( 3 , 3 )\n",
      "2*z4*sin(z2)*cos(z2)/(-alpha*l + cos(z2)**2)\n"
     ]
    }
   ],
   "source": [
    "for i in range(4):\n",
    "    for j in range(4):\n",
    "        print(\"i, j: (\", i, \",\", j,\")\")\n",
    "        print(sympy.diff(z_dot[i], z[j]))"
   ]
  },
  {
   "cell_type": "code",
   "execution_count": 40,
   "id": "0f5c47f1-aad1-451b-9c63-8cceb6a82aac",
   "metadata": {},
   "outputs": [
    {
     "data": {
      "text/latex": [
       "$\\displaystyle \\frac{g \\sin^{2}{\\left(z_{2} \\right)} - g \\cos^{2}{\\left(z_{2} \\right)} - l z_{4}^{2} \\cos{\\left(z_{2} \\right)}}{- \\alpha l + \\cos^{2}{\\left(z_{2} \\right)}} + \\frac{2 \\left(- g \\sin{\\left(z_{2} \\right)} \\cos{\\left(z_{2} \\right)} - l u - l z_{4}^{2} \\sin{\\left(z_{2} \\right)}\\right) \\sin{\\left(z_{2} \\right)} \\cos{\\left(z_{2} \\right)}}{\\left(- \\alpha l + \\cos^{2}{\\left(z_{2} \\right)}\\right)^{2}}$"
      ],
      "text/plain": [
       "(g*sin(z2)**2 - g*cos(z2)**2 - l*z4**2*cos(z2))/(-alpha*l + cos(z2)**2) + 2*(-g*sin(z2)*cos(z2) - l*u - l*z4**2*sin(z2))*sin(z2)*cos(z2)/(-alpha*l + cos(z2)**2)**2"
      ]
     },
     "execution_count": 40,
     "metadata": {},
     "output_type": "execute_result"
    }
   ],
   "source": [
    "sympy.diff(z_dot[2], z[1])"
   ]
  },
  {
   "cell_type": "code",
   "execution_count": 41,
   "id": "02f7515f-1349-44a0-b1df-ea3e50868604",
   "metadata": {},
   "outputs": [
    {
     "data": {
      "text/latex": [
       "$\\displaystyle - \\frac{2 l z_{4} \\sin{\\left(z_{2} \\right)}}{- \\alpha l + \\cos^{2}{\\left(z_{2} \\right)}}$"
      ],
      "text/plain": [
       "-2*l*z4*sin(z2)/(-alpha*l + cos(z2)**2)"
      ]
     },
     "execution_count": 41,
     "metadata": {},
     "output_type": "execute_result"
    }
   ],
   "source": [
    "sympy.diff(z_dot[2], z[3])"
   ]
  },
  {
   "cell_type": "code",
   "execution_count": 42,
   "id": "c630138c-8f7f-49d9-b94b-4b91407ac5f4",
   "metadata": {},
   "outputs": [
    {
     "data": {
      "text/latex": [
       "$\\displaystyle \\frac{\\alpha g \\cos{\\left(z_{2} \\right)} - u \\sin{\\left(z_{2} \\right)} - z_{4}^{2} \\sin^{2}{\\left(z_{2} \\right)} + z_{4}^{2} \\cos^{2}{\\left(z_{2} \\right)}}{- \\alpha l + \\cos^{2}{\\left(z_{2} \\right)}} + \\frac{2 \\left(\\alpha g \\sin{\\left(z_{2} \\right)} + u \\cos{\\left(z_{2} \\right)} + z_{4}^{2} \\sin{\\left(z_{2} \\right)} \\cos{\\left(z_{2} \\right)}\\right) \\sin{\\left(z_{2} \\right)} \\cos{\\left(z_{2} \\right)}}{\\left(- \\alpha l + \\cos^{2}{\\left(z_{2} \\right)}\\right)^{2}}$"
      ],
      "text/plain": [
       "(alpha*g*cos(z2) - u*sin(z2) - z4**2*sin(z2)**2 + z4**2*cos(z2)**2)/(-alpha*l + cos(z2)**2) + 2*(alpha*g*sin(z2) + u*cos(z2) + z4**2*sin(z2)*cos(z2))*sin(z2)*cos(z2)/(-alpha*l + cos(z2)**2)**2"
      ]
     },
     "execution_count": 42,
     "metadata": {},
     "output_type": "execute_result"
    }
   ],
   "source": [
    "sympy.diff(z_dot[3], z[1])"
   ]
  },
  {
   "cell_type": "code",
   "execution_count": 43,
   "id": "d45b2d26-a877-4fa0-872f-915c4bf34f42",
   "metadata": {},
   "outputs": [
    {
     "data": {
      "text/latex": [
       "$\\displaystyle \\frac{2 z_{4} \\sin{\\left(z_{2} \\right)} \\cos{\\left(z_{2} \\right)}}{- \\alpha l + \\cos^{2}{\\left(z_{2} \\right)}}$"
      ],
      "text/plain": [
       "2*z4*sin(z2)*cos(z2)/(-alpha*l + cos(z2)**2)"
      ]
     },
     "execution_count": 43,
     "metadata": {},
     "output_type": "execute_result"
    }
   ],
   "source": [
    "sympy.diff(z_dot[3], z[3])"
   ]
  },
  {
   "cell_type": "code",
   "execution_count": 44,
   "id": "b2bdcb8e-eb22-4267-bbc7-984e64182091",
   "metadata": {},
   "outputs": [
    {
     "data": {
      "text/latex": [
       "$\\displaystyle - \\frac{l}{- \\alpha l + \\cos^{2}{\\left(z_{2} \\right)}}$"
      ],
      "text/plain": [
       "-l/(-alpha*l + cos(z2)**2)"
      ]
     },
     "execution_count": 44,
     "metadata": {},
     "output_type": "execute_result"
    }
   ],
   "source": [
    "sympy.diff(z_dot[2], u)"
   ]
  },
  {
   "cell_type": "code",
   "execution_count": 45,
   "id": "af4fed95-d6cf-475d-94a7-4ad959cc34c1",
   "metadata": {},
   "outputs": [
    {
     "data": {
      "text/latex": [
       "$\\displaystyle \\frac{\\cos{\\left(z_{2} \\right)}}{- \\alpha l + \\cos^{2}{\\left(z_{2} \\right)}}$"
      ],
      "text/plain": [
       "cos(z2)/(-alpha*l + cos(z2)**2)"
      ]
     },
     "execution_count": 45,
     "metadata": {},
     "output_type": "execute_result"
    }
   ],
   "source": [
    "sympy.diff(z_dot[3], u)"
   ]
  },
  {
   "cell_type": "code",
   "execution_count": 46,
   "id": "abb89c40-659e-4941-a906-c70097ec9f26",
   "metadata": {},
   "outputs": [
    {
     "data": {
      "text/latex": [
       "$\\displaystyle 0$"
      ],
      "text/plain": [
       "0"
      ]
     },
     "execution_count": 46,
     "metadata": {},
     "output_type": "execute_result"
    }
   ],
   "source": [
    "sympy.diff(z_dot[1], u)"
   ]
  },
  {
   "cell_type": "markdown",
   "id": "ec3fb69d-a6c2-422b-8078-9718c5390aed",
   "metadata": {},
   "source": [
    "## Need the Hessian of the Lagrangian for SQP\n",
    "If you don't linearize the dynamics, the Hessian of the Lagrangian gets pretty ugly"
   ]
  },
  {
   "cell_type": "code",
   "execution_count": 47,
   "id": "53db794a-986d-4315-bb6b-1bfaafd7254e",
   "metadata": {},
   "outputs": [],
   "source": [
    "mu = sympy.symbols(\"mu1:5\")"
   ]
  },
  {
   "cell_type": "code",
   "execution_count": 48,
   "id": "a72df525-43cf-4c16-8640-d3959daadc36",
   "metadata": {},
   "outputs": [],
   "source": [
    "A_dot_mu = [mu[2], mu[3], sympy.diff(z_dot[2], z[1]) * mu[1] + sympy.diff(z_dot[2], z[3]) * mu[3], sympy.diff(z_dot[3], z[1]) * mu[1] + sympy.diff(z_dot[3], z[3]) * mu[3]]"
   ]
  },
  {
   "cell_type": "code",
   "execution_count": 49,
   "id": "71d4ed6c-758f-4e7e-8ddf-521ba535dd33",
   "metadata": {},
   "outputs": [
    {
     "data": {
      "text/latex": [
       "$\\displaystyle - \\frac{2 l \\mu_{4} z_{4} \\sin{\\left(z_{2} \\right)}}{- \\alpha l + \\cos^{2}{\\left(z_{2} \\right)}} + \\mu_{2} \\left(\\frac{g \\sin^{2}{\\left(z_{2} \\right)} - g \\cos^{2}{\\left(z_{2} \\right)} - l z_{4}^{2} \\cos{\\left(z_{2} \\right)}}{- \\alpha l + \\cos^{2}{\\left(z_{2} \\right)}} + \\frac{2 \\left(- g \\sin{\\left(z_{2} \\right)} \\cos{\\left(z_{2} \\right)} - l u - l z_{4}^{2} \\sin{\\left(z_{2} \\right)}\\right) \\sin{\\left(z_{2} \\right)} \\cos{\\left(z_{2} \\right)}}{\\left(- \\alpha l + \\cos^{2}{\\left(z_{2} \\right)}\\right)^{2}}\\right)$"
      ],
      "text/plain": [
       "-2*l*mu4*z4*sin(z2)/(-alpha*l + cos(z2)**2) + mu2*((g*sin(z2)**2 - g*cos(z2)**2 - l*z4**2*cos(z2))/(-alpha*l + cos(z2)**2) + 2*(-g*sin(z2)*cos(z2) - l*u - l*z4**2*sin(z2))*sin(z2)*cos(z2)/(-alpha*l + cos(z2)**2)**2)"
      ]
     },
     "execution_count": 49,
     "metadata": {},
     "output_type": "execute_result"
    }
   ],
   "source": [
    "A_dot_mu[2]"
   ]
  },
  {
   "cell_type": "code",
   "execution_count": 50,
   "id": "2c1a43b2-ff41-40c2-b1f2-fbb7718c357d",
   "metadata": {},
   "outputs": [
    {
     "data": {
      "text/latex": [
       "$\\displaystyle 0$"
      ],
      "text/plain": [
       "0"
      ]
     },
     "execution_count": 50,
     "metadata": {},
     "output_type": "execute_result"
    }
   ],
   "source": [
    "sympy.diff(A_dot_mu[2], z[0])"
   ]
  },
  {
   "cell_type": "code",
   "execution_count": 51,
   "id": "02be8b2e-dc6d-4108-bac6-3ed9cc9da00b",
   "metadata": {},
   "outputs": [
    {
     "data": {
      "text/latex": [
       "$\\displaystyle - \\frac{2 l \\mu_{4} z_{4} \\cos{\\left(z_{2} \\right)}}{- \\alpha l + \\cos^{2}{\\left(z_{2} \\right)}} - \\frac{4 l \\mu_{4} z_{4} \\sin^{2}{\\left(z_{2} \\right)} \\cos{\\left(z_{2} \\right)}}{\\left(- \\alpha l + \\cos^{2}{\\left(z_{2} \\right)}\\right)^{2}} + \\mu_{2} \\left(\\frac{4 g \\sin{\\left(z_{2} \\right)} \\cos{\\left(z_{2} \\right)} + l z_{4}^{2} \\sin{\\left(z_{2} \\right)}}{- \\alpha l + \\cos^{2}{\\left(z_{2} \\right)}} + \\frac{4 \\left(g \\sin^{2}{\\left(z_{2} \\right)} - g \\cos^{2}{\\left(z_{2} \\right)} - l z_{4}^{2} \\cos{\\left(z_{2} \\right)}\\right) \\sin{\\left(z_{2} \\right)} \\cos{\\left(z_{2} \\right)}}{\\left(- \\alpha l + \\cos^{2}{\\left(z_{2} \\right)}\\right)^{2}} - \\frac{2 \\left(- g \\sin{\\left(z_{2} \\right)} \\cos{\\left(z_{2} \\right)} - l u - l z_{4}^{2} \\sin{\\left(z_{2} \\right)}\\right) \\sin^{2}{\\left(z_{2} \\right)}}{\\left(- \\alpha l + \\cos^{2}{\\left(z_{2} \\right)}\\right)^{2}} + \\frac{2 \\left(- g \\sin{\\left(z_{2} \\right)} \\cos{\\left(z_{2} \\right)} - l u - l z_{4}^{2} \\sin{\\left(z_{2} \\right)}\\right) \\cos^{2}{\\left(z_{2} \\right)}}{\\left(- \\alpha l + \\cos^{2}{\\left(z_{2} \\right)}\\right)^{2}} + \\frac{8 \\left(- g \\sin{\\left(z_{2} \\right)} \\cos{\\left(z_{2} \\right)} - l u - l z_{4}^{2} \\sin{\\left(z_{2} \\right)}\\right) \\sin^{2}{\\left(z_{2} \\right)} \\cos^{2}{\\left(z_{2} \\right)}}{\\left(- \\alpha l + \\cos^{2}{\\left(z_{2} \\right)}\\right)^{3}}\\right)$"
      ],
      "text/plain": [
       "-2*l*mu4*z4*cos(z2)/(-alpha*l + cos(z2)**2) - 4*l*mu4*z4*sin(z2)**2*cos(z2)/(-alpha*l + cos(z2)**2)**2 + mu2*((4*g*sin(z2)*cos(z2) + l*z4**2*sin(z2))/(-alpha*l + cos(z2)**2) + 4*(g*sin(z2)**2 - g*cos(z2)**2 - l*z4**2*cos(z2))*sin(z2)*cos(z2)/(-alpha*l + cos(z2)**2)**2 - 2*(-g*sin(z2)*cos(z2) - l*u - l*z4**2*sin(z2))*sin(z2)**2/(-alpha*l + cos(z2)**2)**2 + 2*(-g*sin(z2)*cos(z2) - l*u - l*z4**2*sin(z2))*cos(z2)**2/(-alpha*l + cos(z2)**2)**2 + 8*(-g*sin(z2)*cos(z2) - l*u - l*z4**2*sin(z2))*sin(z2)**2*cos(z2)**2/(-alpha*l + cos(z2)**2)**3)"
      ]
     },
     "execution_count": 51,
     "metadata": {},
     "output_type": "execute_result"
    }
   ],
   "source": [
    "sympy.diff(A_dot_mu[2], z[1])"
   ]
  },
  {
   "cell_type": "code",
   "execution_count": 52,
   "id": "bd5d5959-5953-4532-9f96-ee41407b89cf",
   "metadata": {},
   "outputs": [
    {
     "data": {
      "text/latex": [
       "$\\displaystyle 0$"
      ],
      "text/plain": [
       "0"
      ]
     },
     "execution_count": 52,
     "metadata": {},
     "output_type": "execute_result"
    }
   ],
   "source": [
    "sympy.diff(A_dot_mu[2], z[2])"
   ]
  },
  {
   "cell_type": "code",
   "execution_count": 53,
   "id": "e6d89cbc-0025-4480-9bf5-02f1ac4beeea",
   "metadata": {},
   "outputs": [
    {
     "data": {
      "text/latex": [
       "$\\displaystyle - \\frac{2 l \\mu_{4} \\sin{\\left(z_{2} \\right)}}{- \\alpha l + \\cos^{2}{\\left(z_{2} \\right)}} + \\mu_{2} \\left(- \\frac{2 l z_{4} \\cos{\\left(z_{2} \\right)}}{- \\alpha l + \\cos^{2}{\\left(z_{2} \\right)}} - \\frac{4 l z_{4} \\sin^{2}{\\left(z_{2} \\right)} \\cos{\\left(z_{2} \\right)}}{\\left(- \\alpha l + \\cos^{2}{\\left(z_{2} \\right)}\\right)^{2}}\\right)$"
      ],
      "text/plain": [
       "-2*l*mu4*sin(z2)/(-alpha*l + cos(z2)**2) + mu2*(-2*l*z4*cos(z2)/(-alpha*l + cos(z2)**2) - 4*l*z4*sin(z2)**2*cos(z2)/(-alpha*l + cos(z2)**2)**2)"
      ]
     },
     "execution_count": 53,
     "metadata": {},
     "output_type": "execute_result"
    }
   ],
   "source": [
    "sympy.diff(A_dot_mu[2], z[3])"
   ]
  },
  {
   "cell_type": "code",
   "execution_count": 54,
   "id": "d6c3d5e7-1e9d-4efc-9fc4-1d91f22382c8",
   "metadata": {},
   "outputs": [
    {
     "data": {
      "text/latex": [
       "$\\displaystyle 0$"
      ],
      "text/plain": [
       "0"
      ]
     },
     "execution_count": 54,
     "metadata": {},
     "output_type": "execute_result"
    }
   ],
   "source": [
    "sympy.diff(A_dot_mu[3], z[0])"
   ]
  },
  {
   "cell_type": "code",
   "execution_count": 55,
   "id": "c578e3a1-cf82-48ee-a1a0-9252104c15ec",
   "metadata": {},
   "outputs": [
    {
     "data": {
      "text/latex": [
       "$\\displaystyle \\mu_{2} \\left(\\frac{- \\alpha g \\sin{\\left(z_{2} \\right)} - u \\cos{\\left(z_{2} \\right)} - 4 z_{4}^{2} \\sin{\\left(z_{2} \\right)} \\cos{\\left(z_{2} \\right)}}{- \\alpha l + \\cos^{2}{\\left(z_{2} \\right)}} - \\frac{2 \\left(\\alpha g \\sin{\\left(z_{2} \\right)} + u \\cos{\\left(z_{2} \\right)} + z_{4}^{2} \\sin{\\left(z_{2} \\right)} \\cos{\\left(z_{2} \\right)}\\right) \\sin^{2}{\\left(z_{2} \\right)}}{\\left(- \\alpha l + \\cos^{2}{\\left(z_{2} \\right)}\\right)^{2}} + \\frac{2 \\left(\\alpha g \\sin{\\left(z_{2} \\right)} + u \\cos{\\left(z_{2} \\right)} + z_{4}^{2} \\sin{\\left(z_{2} \\right)} \\cos{\\left(z_{2} \\right)}\\right) \\cos^{2}{\\left(z_{2} \\right)}}{\\left(- \\alpha l + \\cos^{2}{\\left(z_{2} \\right)}\\right)^{2}} + \\frac{4 \\left(\\alpha g \\cos{\\left(z_{2} \\right)} - u \\sin{\\left(z_{2} \\right)} - z_{4}^{2} \\sin^{2}{\\left(z_{2} \\right)} + z_{4}^{2} \\cos^{2}{\\left(z_{2} \\right)}\\right) \\sin{\\left(z_{2} \\right)} \\cos{\\left(z_{2} \\right)}}{\\left(- \\alpha l + \\cos^{2}{\\left(z_{2} \\right)}\\right)^{2}} + \\frac{8 \\left(\\alpha g \\sin{\\left(z_{2} \\right)} + u \\cos{\\left(z_{2} \\right)} + z_{4}^{2} \\sin{\\left(z_{2} \\right)} \\cos{\\left(z_{2} \\right)}\\right) \\sin^{2}{\\left(z_{2} \\right)} \\cos^{2}{\\left(z_{2} \\right)}}{\\left(- \\alpha l + \\cos^{2}{\\left(z_{2} \\right)}\\right)^{3}}\\right) - \\frac{2 \\mu_{4} z_{4} \\sin^{2}{\\left(z_{2} \\right)}}{- \\alpha l + \\cos^{2}{\\left(z_{2} \\right)}} + \\frac{2 \\mu_{4} z_{4} \\cos^{2}{\\left(z_{2} \\right)}}{- \\alpha l + \\cos^{2}{\\left(z_{2} \\right)}} + \\frac{4 \\mu_{4} z_{4} \\sin^{2}{\\left(z_{2} \\right)} \\cos^{2}{\\left(z_{2} \\right)}}{\\left(- \\alpha l + \\cos^{2}{\\left(z_{2} \\right)}\\right)^{2}}$"
      ],
      "text/plain": [
       "mu2*((-alpha*g*sin(z2) - u*cos(z2) - 4*z4**2*sin(z2)*cos(z2))/(-alpha*l + cos(z2)**2) - 2*(alpha*g*sin(z2) + u*cos(z2) + z4**2*sin(z2)*cos(z2))*sin(z2)**2/(-alpha*l + cos(z2)**2)**2 + 2*(alpha*g*sin(z2) + u*cos(z2) + z4**2*sin(z2)*cos(z2))*cos(z2)**2/(-alpha*l + cos(z2)**2)**2 + 4*(alpha*g*cos(z2) - u*sin(z2) - z4**2*sin(z2)**2 + z4**2*cos(z2)**2)*sin(z2)*cos(z2)/(-alpha*l + cos(z2)**2)**2 + 8*(alpha*g*sin(z2) + u*cos(z2) + z4**2*sin(z2)*cos(z2))*sin(z2)**2*cos(z2)**2/(-alpha*l + cos(z2)**2)**3) - 2*mu4*z4*sin(z2)**2/(-alpha*l + cos(z2)**2) + 2*mu4*z4*cos(z2)**2/(-alpha*l + cos(z2)**2) + 4*mu4*z4*sin(z2)**2*cos(z2)**2/(-alpha*l + cos(z2)**2)**2"
      ]
     },
     "execution_count": 55,
     "metadata": {},
     "output_type": "execute_result"
    }
   ],
   "source": [
    "sympy.diff(A_dot_mu[3], z[1])"
   ]
  },
  {
   "cell_type": "code",
   "execution_count": 56,
   "id": "24302f19-57ee-4161-b484-39af979d3020",
   "metadata": {},
   "outputs": [
    {
     "data": {
      "text/latex": [
       "$\\displaystyle 0$"
      ],
      "text/plain": [
       "0"
      ]
     },
     "execution_count": 56,
     "metadata": {},
     "output_type": "execute_result"
    }
   ],
   "source": [
    "sympy.diff(A_dot_mu[3], z[2])"
   ]
  },
  {
   "cell_type": "code",
   "execution_count": 57,
   "id": "0f302cfc-dd13-4538-a257-4afa8d2d5099",
   "metadata": {},
   "outputs": [
    {
     "data": {
      "text/latex": [
       "$\\displaystyle \\mu_{2} \\left(\\frac{4 z_{4} \\sin^{2}{\\left(z_{2} \\right)} \\cos^{2}{\\left(z_{2} \\right)}}{\\left(- \\alpha l + \\cos^{2}{\\left(z_{2} \\right)}\\right)^{2}} + \\frac{- 2 z_{4} \\sin^{2}{\\left(z_{2} \\right)} + 2 z_{4} \\cos^{2}{\\left(z_{2} \\right)}}{- \\alpha l + \\cos^{2}{\\left(z_{2} \\right)}}\\right) + \\frac{2 \\mu_{4} \\sin{\\left(z_{2} \\right)} \\cos{\\left(z_{2} \\right)}}{- \\alpha l + \\cos^{2}{\\left(z_{2} \\right)}}$"
      ],
      "text/plain": [
       "mu2*(4*z4*sin(z2)**2*cos(z2)**2/(-alpha*l + cos(z2)**2)**2 + (-2*z4*sin(z2)**2 + 2*z4*cos(z2)**2)/(-alpha*l + cos(z2)**2)) + 2*mu4*sin(z2)*cos(z2)/(-alpha*l + cos(z2)**2)"
      ]
     },
     "execution_count": 57,
     "metadata": {},
     "output_type": "execute_result"
    }
   ],
   "source": [
    "sympy.diff(A_dot_mu[3], z[3])"
   ]
  },
  {
   "cell_type": "code",
   "execution_count": 58,
   "id": "41931d3a-0c93-4543-b84f-68c8db2ee6be",
   "metadata": {},
   "outputs": [
    {
     "data": {
      "text/latex": [
       "$\\displaystyle u$"
      ],
      "text/plain": [
       "u"
      ]
     },
     "execution_count": 58,
     "metadata": {},
     "output_type": "execute_result"
    }
   ],
   "source": [
    "u"
   ]
  },
  {
   "cell_type": "code",
   "execution_count": 59,
   "id": "3104bbde-9c6f-4a39-9586-aa75b079b49e",
   "metadata": {},
   "outputs": [],
   "source": [
    "v = sympy.symbols('v')"
   ]
  },
  {
   "cell_type": "code",
   "execution_count": 60,
   "id": "a75ee229-3cc1-4837-90d4-51b3ebc378b0",
   "metadata": {},
   "outputs": [],
   "source": [
    "p = sympy.symbols('p')"
   ]
  },
  {
   "cell_type": "code",
   "execution_count": 61,
   "id": "a64f1f5c-9aa3-478a-8915-9e501ea4d18e",
   "metadata": {},
   "outputs": [],
   "source": [
    "q = -1.0 * sympy.log(-(v - u))"
   ]
  },
  {
   "cell_type": "code",
   "execution_count": 62,
   "id": "e0ddc6b7-963f-489d-bea6-d157adb13022",
   "metadata": {},
   "outputs": [
    {
     "data": {
      "text/latex": [
       "$\\displaystyle - \\frac{1.0}{u - v}$"
      ],
      "text/plain": [
       "-1.0/(u - v)"
      ]
     },
     "execution_count": 62,
     "metadata": {},
     "output_type": "execute_result"
    }
   ],
   "source": [
    "sympy.diff(q, u)"
   ]
  },
  {
   "cell_type": "code",
   "execution_count": 63,
   "id": "3c40488d-b0ec-4eb0-84fc-bbcf340d7bbc",
   "metadata": {},
   "outputs": [
    {
     "data": {
      "text/latex": [
       "$\\displaystyle \\frac{1.0}{\\left(u - v\\right)^{2}}$"
      ],
      "text/plain": [
       "1.0/(u - v)**2"
      ]
     },
     "execution_count": 63,
     "metadata": {},
     "output_type": "execute_result"
    }
   ],
   "source": [
    "sympy.diff(sympy.diff(q, u), u)"
   ]
  },
  {
   "cell_type": "code",
   "execution_count": 64,
   "id": "deb39846-9fdc-4206-a3a5-889e4539770b",
   "metadata": {},
   "outputs": [
    {
     "data": {
      "text/latex": [
       "$\\displaystyle \\frac{1.0}{\\left(u - v\\right)^{2}}$"
      ],
      "text/plain": [
       "1.0/(u - v)**2"
      ]
     },
     "execution_count": 64,
     "metadata": {},
     "output_type": "execute_result"
    }
   ],
   "source": [
    "sympy.diff(sympy.diff(q, u), u)"
   ]
  },
  {
   "cell_type": "code",
   "execution_count": null,
   "id": "d2bfca5a-9c45-4171-bcb0-0dbb96fff220",
   "metadata": {},
   "outputs": [],
   "source": []
  }
 ],
 "metadata": {
  "kernelspec": {
   "display_name": "Python 3 (ipykernel)",
   "language": "python",
   "name": "python3"
  },
  "language_info": {
   "codemirror_mode": {
    "name": "ipython",
    "version": 3
   },
   "file_extension": ".py",
   "mimetype": "text/x-python",
   "name": "python",
   "nbconvert_exporter": "python",
   "pygments_lexer": "ipython3",
   "version": "3.10.12"
  }
 },
 "nbformat": 4,
 "nbformat_minor": 5
}
